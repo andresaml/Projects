{
 "cells": [
  {
   "cell_type": "code",
   "execution_count": null,
   "id": "b3da5ab0",
   "metadata": {},
   "outputs": [],
   "source": [
    "conda install -c https://conda.anaconda.org/anaconda pandas-datareader"
   ]
  },
  {
   "cell_type": "markdown",
   "id": "ee385e94",
   "metadata": {},
   "source": [
    "<div id=\"Getting Started\">\n",
    "    <h2>Getting Started</h2>"
   ]
  },
  {
   "cell_type": "code",
   "execution_count": 1,
   "id": "2840f46e",
   "metadata": {},
   "outputs": [],
   "source": [
    "from pandas_datareader import data as web\n",
    "import pandas as pd\n",
    "import numpy as np\n",
    "from datetime import datetime\n",
    "import matplotlib.pyplot as plt\n",
    "plt.style.use('fivethirtyeight')"
   ]
  },
  {
   "cell_type": "markdown",
   "id": "39dc695a",
   "metadata": {},
   "source": [
    "Get th stocks symbols in the portfolio"
   ]
  },
  {
   "cell_type": "code",
   "execution_count": 2,
   "id": "69240723",
   "metadata": {},
   "outputs": [],
   "source": [
    "assets = ['FB', 'AMZN', 'AAPL', 'NFLX', 'GOOG', 'MSFT', 'TSLA', 'NVDA', 'JPM', 'MRNA']"
   ]
  },
  {
   "cell_type": "markdown",
   "id": "64e3cdb8",
   "metadata": {},
   "source": [
    "Let's assign some equal weights"
   ]
  },
  {
   "cell_type": "code",
   "execution_count": 3,
   "id": "9bbabde0",
   "metadata": {},
   "outputs": [],
   "source": [
    "weights = np.array([0.1, 0.1, 0.1, 0.1, 0.1, 0.1, 0.1, 0.1, 0.1, 0.1])\n"
   ]
  },
  {
   "cell_type": "markdown",
   "id": "539b4550",
   "metadata": {},
   "source": [
    "Get portfolio starting date:"
   ]
  },
  {
   "cell_type": "code",
   "execution_count": 4,
   "id": "4ff1e878",
   "metadata": {},
   "outputs": [],
   "source": [
    "stockStartDate = '2013-01-01'"
   ]
  },
  {
   "cell_type": "markdown",
   "id": "e3818a49",
   "metadata": {},
   "source": [
    "Get ending date (today)"
   ]
  },
  {
   "cell_type": "code",
   "execution_count": 5,
   "id": "8d7ed32e",
   "metadata": {},
   "outputs": [
    {
     "name": "stdout",
     "output_type": "stream",
     "text": [
      "2022-05-26\n"
     ]
    }
   ],
   "source": [
    "today = datetime.today().strftime('%Y-%m-%d')\n",
    "print(today)"
   ]
  },
  {
   "cell_type": "markdown",
   "id": "20ef809e",
   "metadata": {},
   "source": [
    "Create a dataframe to store the adjusted close price of the stock"
   ]
  },
  {
   "cell_type": "code",
   "execution_count": 6,
   "id": "5fff051d",
   "metadata": {},
   "outputs": [],
   "source": [
    "df = pd.DataFrame()"
   ]
  },
  {
   "cell_type": "markdown",
   "id": "84b2c445",
   "metadata": {},
   "source": [
    "Store the adjusted close price of the stocks into the df"
   ]
  },
  {
   "cell_type": "code",
   "execution_count": 7,
   "id": "0e6403b8",
   "metadata": {},
   "outputs": [
    {
     "name": "stdout",
     "output_type": "stream",
     "text": [
      "                    FB         AMZN        AAPL        NFLX         GOOG  \\\n",
      "Date                                                                       \n",
      "2013-01-02   28.000000   257.309998   16.914255   13.144286   360.274597   \n",
      "2013-01-03   27.770000   258.480011   16.700760   13.798571   360.483826   \n",
      "2013-01-04   28.760000   259.149994   16.235573   13.711429   367.607117   \n",
      "2013-01-07   29.420000   268.459991   16.140062   14.171429   366.003143   \n",
      "2013-01-08   29.059999   266.380005   16.183512   13.880000   365.280823   \n",
      "...                ...          ...         ...         ...          ...   \n",
      "2022-05-20  193.539993  2151.820068  137.589996  186.350006  2186.260010   \n",
      "2022-05-23  196.229996  2151.139893  143.110001  187.440002  2233.330078   \n",
      "2022-05-24  181.279999  2082.000000  140.360001  180.339996  2118.520020   \n",
      "2022-05-25  183.830002  2135.500000  140.520004  187.830002  2116.790039   \n",
      "2022-05-26  188.940002  2211.531006  142.514999  189.279999  2158.530029   \n",
      "\n",
      "                  MSFT        TSLA        NVDA         JPM        MRNA  \n",
      "Date                                                                    \n",
      "2013-01-02   22.887350    7.072000    2.939527   34.679981         NaN  \n",
      "2013-01-03   22.580744    6.954000    2.941838   34.610104         NaN  \n",
      "2013-01-04   22.158133    6.880000    3.038897   35.223560         NaN  \n",
      "2013-01-07   22.116699    6.868000    2.951082   35.262379         NaN  \n",
      "2013-01-08   22.000689    6.736000    2.886375   35.332272         NaN  \n",
      "...                ...         ...         ...         ...         ...  \n",
      "2022-05-20  252.559998  663.900024  166.940002  117.339996  136.250000  \n",
      "2022-05-23  260.649994  674.900024  168.979996  124.599998  137.619995  \n",
      "2022-05-24  259.619995  628.159973  161.539993  126.360001  132.059998  \n",
      "2022-05-25  262.519989  658.799988  169.750000  127.239998  130.850006  \n",
      "2022-05-26  264.609985  700.529419  176.248398  128.843704  133.660004  \n",
      "\n",
      "[2368 rows x 10 columns]\n"
     ]
    }
   ],
   "source": [
    "for stock in assets:\n",
    "    df[stock] = web.DataReader(stock, data_source='yahoo', start=stockStartDate, end=today)['Adj Close']\n",
    "\n",
    "print(df)\n"
   ]
  },
  {
   "cell_type": "markdown",
   "id": "bdede7e7",
   "metadata": {},
   "source": [
    "Visualize show the portfolio"
   ]
  },
  {
   "cell_type": "code",
   "execution_count": 8,
   "id": "f3a37a32",
   "metadata": {},
   "outputs": [],
   "source": [
    "title = 'Portfolio Adj. Close Price History'"
   ]
  },
  {
   "cell_type": "markdown",
   "id": "73f71a7c",
   "metadata": {},
   "source": [
    "Get the stocks"
   ]
  },
  {
   "cell_type": "code",
   "execution_count": 9,
   "id": "39d08fce",
   "metadata": {},
   "outputs": [],
   "source": [
    "my_stocks = df"
   ]
  },
  {
   "cell_type": "markdown",
   "id": "7411f7f1",
   "metadata": {},
   "source": [
    "Create and plot the graph"
   ]
  },
  {
   "cell_type": "code",
   "execution_count": 10,
   "id": "0cddc436",
   "metadata": {},
   "outputs": [
    {
     "data": {
      "image/png": "[encoded data removed]",
      "text/plain": [
       "<Figure size 432x288 with 1 Axes>"
      ]
     },
     "metadata": {},
     "output_type": "display_data"
    }
   ],
   "source": [
    "for c in my_stocks.columns.values:\n",
    "    plt.plot(my_stocks[c], label = c, linewidth = 1.5)\n",
    "\n",
    "plt.title(title)\n",
    "plt.xlabel('Date', fontsize = 18)\n",
    "plt.ylabel('Adj. Price USD ($)', fontsize = 18)\n",
    "plt.legend(my_stocks.columns.values, loc = 'upper left')\n",
    "plt.show()"
   ]
  },
  {
   "cell_type": "markdown",
   "id": "f40d475b",
   "metadata": {},
   "source": [
    "Show the daily simple return"
   ]
  },
  {
   "cell_type": "code",
   "execution_count": 11,
   "id": "c6e5f16f",
   "metadata": {},
   "outputs": [
    {
     "name": "stdout",
     "output_type": "stream",
     "text": [
      "                  FB      AMZN      AAPL      NFLX      GOOG      MSFT  \\\n",
      "Date                                                                     \n",
      "2013-01-02       NaN       NaN       NaN       NaN       NaN       NaN   \n",
      "2013-01-03 -0.008214  0.004547 -0.012622  0.049777  0.000581 -0.013396   \n",
      "2013-01-04  0.035650  0.002592 -0.027854 -0.006315  0.019760 -0.018716   \n",
      "2013-01-07  0.022949  0.035925 -0.005883  0.033549 -0.004363 -0.001870   \n",
      "2013-01-08 -0.012237 -0.007748  0.002692 -0.020565 -0.001974 -0.005245   \n",
      "...              ...       ...       ...       ...       ...       ...   \n",
      "2022-05-20  0.011762  0.002535  0.001747  0.015642 -0.012935 -0.002291   \n",
      "2022-05-23  0.013899 -0.000316  0.040119  0.005849  0.021530  0.032032   \n",
      "2022-05-24 -0.076186 -0.032141 -0.019216 -0.037879 -0.051408 -0.003952   \n",
      "2022-05-25  0.014067  0.025696  0.001140  0.041533 -0.000817  0.011170   \n",
      "2022-05-26  0.027797  0.035603  0.014197  0.007720  0.019719  0.007961   \n",
      "\n",
      "                TSLA      NVDA       JPM      MRNA  \n",
      "Date                                                \n",
      "2013-01-02       NaN       NaN       NaN       NaN  \n",
      "2013-01-03 -0.016686  0.000786 -0.002015       NaN  \n",
      "2013-01-04 -0.010641  0.032993  0.017725       NaN  \n",
      "2013-01-07 -0.001744 -0.028897  0.001102       NaN  \n",
      "2013-01-08 -0.019220 -0.021927  0.001982       NaN  \n",
      "...              ...       ...       ...       ...  \n",
      "2022-05-20 -0.064165 -0.025111 -0.008199 -0.049728  \n",
      "2022-05-23  0.016569  0.012220  0.061872  0.010055  \n",
      "2022-05-24 -0.069255 -0.044029  0.014125 -0.040401  \n",
      "2022-05-25  0.048777  0.050823  0.006964 -0.009162  \n",
      "2022-05-26  0.063342  0.038282  0.012604  0.021475  \n",
      "\n",
      "[2368 rows x 10 columns]\n"
     ]
    }
   ],
   "source": [
    "returns = df.pct_change()\n",
    "print(returns)"
   ]
  },
  {
   "cell_type": "markdown",
   "id": "82d7b342",
   "metadata": {},
   "source": [
    "Show annualized covariance matrix"
   ]
  },
  {
   "cell_type": "code",
   "execution_count": 12,
   "id": "ac5b3ad5",
   "metadata": {},
   "outputs": [
    {
     "name": "stdout",
     "output_type": "stream",
     "text": [
      "            FB      AMZN      AAPL      NFLX      GOOG      MSFT      TSLA  \\\n",
      "FB    0.130704  0.060504  0.048230  0.066869  0.054805  0.047231  0.064196   \n",
      "AMZN  0.060504  0.098599  0.043061  0.068609  0.049906  0.047571  0.062768   \n",
      "AAPL  0.048230  0.043061  0.081518  0.038873  0.040601  0.045708  0.056459   \n",
      "NFLX  0.066869  0.068609  0.038873  0.222071  0.051587  0.047377  0.080953   \n",
      "GOOG  0.054805  0.049906  0.040601  0.051587  0.068025  0.046418  0.050931   \n",
      "MSFT  0.047231  0.047571  0.045708  0.047377  0.046418  0.069802  0.054707   \n",
      "TSLA  0.064196  0.062768  0.056459  0.080953  0.050931  0.054707  0.322399   \n",
      "NVDA  0.069132  0.064697  0.063314  0.073778  0.058354  0.065054  0.088723   \n",
      "JPM   0.030632  0.024496  0.031216  0.025983  0.030826  0.032659  0.035579   \n",
      "MRNA  0.044738  0.035164  0.034742  0.049872  0.028380  0.036038  0.066921   \n",
      "\n",
      "          NVDA       JPM      MRNA  \n",
      "FB    0.069132  0.030632  0.044738  \n",
      "AMZN  0.064697  0.024496  0.035164  \n",
      "AAPL  0.063314  0.031216  0.034742  \n",
      "NFLX  0.073778  0.025983  0.049872  \n",
      "GOOG  0.058354  0.030826  0.028380  \n",
      "MSFT  0.065054  0.032659  0.036038  \n",
      "TSLA  0.088723  0.035579  0.066921  \n",
      "NVDA  0.185959  0.040378  0.080524  \n",
      "JPM   0.040378  0.071421 -0.002209  \n",
      "MRNA  0.080524 -0.002209  0.675355  \n"
     ]
    }
   ],
   "source": [
    "cov_matrix_annual = returns.cov() * 252\n",
    "print(cov_matrix_annual)\n"
   ]
  },
  {
   "cell_type": "markdown",
   "id": "04ea8884",
   "metadata": {},
   "source": [
    "Calculate the portfolio variance"
   ]
  },
  {
   "cell_type": "code",
   "execution_count": 13,
   "id": "bc799c4b",
   "metadata": {},
   "outputs": [
    {
     "name": "stdout",
     "output_type": "stream",
     "text": [
      "0.0639856322169573\n"
     ]
    }
   ],
   "source": [
    "port_variance = np.dot(weights.T, np.dot(cov_matrix_annual, weights))\n",
    "print(port_variance)"
   ]
  },
  {
   "cell_type": "markdown",
   "id": "e0dc38ae",
   "metadata": {},
   "source": [
    "Calculate the portfolio volatility aka standard deviation"
   ]
  },
  {
   "cell_type": "code",
   "execution_count": 14,
   "id": "bde3caa3",
   "metadata": {},
   "outputs": [
    {
     "name": "stdout",
     "output_type": "stream",
     "text": [
      "0.2529538143949549\n"
     ]
    }
   ],
   "source": [
    "port_volatility = np.sqrt(port_variance)\n",
    "print(port_volatility)"
   ]
  },
  {
   "cell_type": "markdown",
   "id": "520e7651",
   "metadata": {},
   "source": [
    "Calculate the annual portfolio return"
   ]
  },
  {
   "cell_type": "code",
   "execution_count": 15,
   "id": "915b3fab",
   "metadata": {},
   "outputs": [
    {
     "name": "stdout",
     "output_type": "stream",
     "text": [
      "0.3984419768307217\n"
     ]
    }
   ],
   "source": [
    "portfolioSimpleAnnualReturn = np.sum(returns.mean() * weights) * 252\n",
    "print(portfolioSimpleAnnualReturn)"
   ]
  },
  {
   "cell_type": "markdown",
   "id": "29e06d2a",
   "metadata": {},
   "source": [
    "Show the expected annual return, volatility and the variance"
   ]
  },
  {
   "cell_type": "code",
   "execution_count": 16,
   "id": "e847af3f",
   "metadata": {},
   "outputs": [
    {
     "name": "stdout",
     "output_type": "stream",
     "text": [
      "Expected annual Return: 39.839999999999996%\n",
      "Annual Volatility: 25.3%\n",
      "Annual variance: 6.4%\n"
     ]
    }
   ],
   "source": [
    "percent_var = str(round(port_variance, 4) * 100) + '%'\n",
    "percent_vol = str(round(port_volatility, 4) * 100) + '%'\n",
    "percent_ret = str(round(portfolioSimpleAnnualReturn, 4) * 100) + '%'\n",
    "\n",
    "print('Expected annual Return: ' + percent_ret)\n",
    "print('Annual Volatility: ' + percent_vol)\n",
    "print('Annual variance: ' + percent_var)"
   ]
  },
  {
   "cell_type": "markdown",
   "id": "c7ce4a8d",
   "metadata": {},
   "source": [
    "Install PyPortfolioOpt"
   ]
  },
  {
   "cell_type": "code",
   "execution_count": 18,
   "id": "6a59a3ad",
   "metadata": {},
   "outputs": [
    {
     "name": "stdout",
     "output_type": "stream",
     "text": [
      "Collecting PyPortfolioOpt\n",
      "  Downloading pyportfolioopt-1.5.3-py3-none-any.whl (61 kB)\n",
      "Collecting numpy<2.0.0,>=1.22.4\n",
      "  Downloading numpy-1.22.4-cp39-cp39-win_amd64.whl (14.7 MB)\n",
      "Requirement already satisfied: pandas>=0.19 in c:\\users\\andre\\anaconda3\\lib\\site-packages (from PyPortfolioOpt) (1.4.2)\n",
      "Requirement already satisfied: scipy<2.0,>=1.3 in c:\\users\\andre\\anaconda3\\lib\\site-packages (from PyPortfolioOpt) (1.7.3)\n",
      "Collecting cvxpy<2.0.0,>=1.1.10\n",
      "  Downloading cvxpy-1.2.1-cp39-cp39-win_amd64.whl (833 kB)\n",
      "Collecting osqp>=0.4.1\n",
      "  Downloading osqp-0.6.2.post5-cp39-cp39-win_amd64.whl (278 kB)\n",
      "Collecting scs>=1.1.6\n",
      "  Downloading scs-3.2.0-cp39-cp39-win_amd64.whl (8.1 MB)\n",
      "Collecting ecos>=2\n",
      "  Downloading ecos-2.0.10-cp39-cp39-win_amd64.whl (68 kB)\n",
      "Collecting qdldl\n",
      "  Downloading qdldl-0.1.5.post2-cp39-cp39-win_amd64.whl (83 kB)\n",
      "Requirement already satisfied: pytz>=2020.1 in c:\\users\\andre\\anaconda3\\lib\\site-packages (from pandas>=0.19->PyPortfolioOpt) (2021.3)\n",
      "Requirement already satisfied: python-dateutil>=2.8.1 in c:\\users\\andre\\anaconda3\\lib\\site-packages (from pandas>=0.19->PyPortfolioOpt) (2.8.2)\n",
      "Requirement already satisfied: six>=1.5 in c:\\users\\andre\\anaconda3\\lib\\site-packages (from python-dateutil>=2.8.1->pandas>=0.19->PyPortfolioOpt) (1.16.0)\n",
      "Installing collected packages: numpy, qdldl, scs, osqp, ecos, cvxpy, PyPortfolioOpt\n",
      "  Attempting uninstall: numpy\n",
      "    Found existing installation: numpy 1.21.5\n",
      "    Uninstalling numpy-1.21.5:\n",
      "      Successfully uninstalled numpy-1.21.5\n",
      "Successfully installed PyPortfolioOpt-1.5.3 cvxpy-1.2.1 ecos-2.0.10 numpy-1.22.4 osqp-0.6.2.post5 qdldl-0.1.5.post2 scs-3.2.0\n",
      "Note: you may need to restart the kernel to use updated packages.\n"
     ]
    },
    {
     "name": "stderr",
     "output_type": "stream",
     "text": [
      "ERROR: pip's dependency resolver does not currently take into account all the packages that are installed. This behaviour is the source of the following dependency conflicts.\n",
      "daal4py 2021.5.0 requires daal==2021.4.0, which is not installed.\n",
      "numba 0.55.1 requires numpy<1.22,>=1.18, but you have numpy 1.22.4 which is incompatible.\n"
     ]
    }
   ],
   "source": [
    "pip install PyPortfolioOpt"
   ]
  },
  {
   "cell_type": "code",
   "execution_count": 19,
   "id": "eed06c46",
   "metadata": {},
   "outputs": [],
   "source": [
    "from pypfopt.efficient_frontier import EfficientFrontier\n",
    "from pypfopt import risk_models\n",
    "from pypfopt import expected_returns\n"
   ]
  },
  {
   "cell_type": "markdown",
   "id": "91da554f",
   "metadata": {},
   "source": [
    "<div id=\"Portfolio Optimization\">\n",
    "    <h2>Portfolio Optimization</h2>"
   ]
  },
  {
   "cell_type": "markdown",
   "id": "ab851740",
   "metadata": {},
   "source": [
    "Calculate the expected returns and annualised sample covariance matrix of asset return"
   ]
  },
  {
   "cell_type": "code",
   "execution_count": 20,
   "id": "0c6ec05b",
   "metadata": {},
   "outputs": [],
   "source": [
    "mu = expected_returns.mean_historical_return(df)\n",
    "S = risk_models.sample_cov(df)"
   ]
  },
  {
   "cell_type": "markdown",
   "id": "447059d9",
   "metadata": {},
   "source": [
    "Optimize for max sharpe ratio"
   ]
  },
  {
   "cell_type": "code",
   "execution_count": 21,
   "id": "39ff36aa",
   "metadata": {},
   "outputs": [
    {
     "name": "stdout",
     "output_type": "stream",
     "text": [
      "OrderedDict([('FB', 0.0), ('AMZN', 0.0), ('AAPL', 0.0), ('NFLX', 0.00917), ('GOOG', 0.0), ('MSFT', 0.27606), ('TSLA', 0.23303), ('NVDA', 0.32301), ('JPM', 0.0), ('MRNA', 0.15873)])\n",
      "Expected annual return: 53.0%\n",
      "Annual volatility: 33.0%\n",
      "Sharpe Ratio: 1.55\n"
     ]
    },
    {
     "data": {
      "text/plain": [
       "(0.5304490468002478, 0.3298392421639, 1.5475691838589698)"
      ]
     },
     "execution_count": 21,
     "metadata": {},
     "output_type": "execute_result"
    }
   ],
   "source": [
    "ef = EfficientFrontier(mu, S)\n",
    "weights = ef.max_sharpe()\n",
    "cleaned_weights = ef.clean_weights()\n",
    "print(cleaned_weights)\n",
    "ef.portfolio_performance(verbose = True)"
   ]
  },
  {
   "cell_type": "markdown",
   "id": "b624cde1",
   "metadata": {},
   "source": [
    "Get the discrete allocation of each share per stock (USD 30.000,00 budget)"
   ]
  },
  {
   "cell_type": "code",
   "execution_count": 22,
   "id": "439f0b81",
   "metadata": {},
   "outputs": [],
   "source": [
    "from pypfopt.discrete_allocation import DiscreteAllocation, get_latest_prices\n",
    "latest_prices = get_latest_prices(df)\n",
    "weights = cleaned_weights\n",
    "da = DiscreteAllocation(weights, latest_prices, total_portfolio_value=30000)"
   ]
  },
  {
   "cell_type": "code",
   "execution_count": 23,
   "id": "052b5ba7",
   "metadata": {},
   "outputs": [
    {
     "name": "stdout",
     "output_type": "stream",
     "text": [
      "Discrete allocation: {'NFLX': 1, 'MSFT': 31, 'TSLA': 10, 'NVDA': 55, 'MRNA': 36}\n",
      "Funds remaining: $97.09\n"
     ]
    },
    {
     "name": "stderr",
     "output_type": "stream",
     "text": [
      "C:\\Users\\andre\\anaconda3\\lib\\site-packages\\cvxpy\\problems\\problem.py:1337: UserWarning: Solution may be inaccurate. Try another solver, adjusting the solver settings, or solve with verbose=True for more information.\n",
      "  warnings.warn(\n"
     ]
    }
   ],
   "source": [
    "allocation, leftover = da.lp_portfolio()\n",
    "print('Discrete allocation:', allocation)\n",
    "print('Funds remaining: ${:.2f}'.format(leftover))"
   ]
  }
 ],
 "metadata": {
  "kernelspec": {
   "display_name": "Python 3 (ipykernel)",
   "language": "python",
   "name": "python3"
  },
  "language_info": {
   "codemirror_mode": {
    "name": "ipython",
    "version": 3
   },
   "file_extension": ".py",
   "mimetype": "text/x-python",
   "name": "python",
   "nbconvert_exporter": "python",
   "pygments_lexer": "ipython3",
   "version": "3.9.12"
  }
 },
 "nbformat": 4,
 "nbformat_minor": 5
}
