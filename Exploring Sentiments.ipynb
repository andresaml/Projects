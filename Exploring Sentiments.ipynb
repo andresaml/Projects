{
 "cells": [
  {
   "cell_type": "markdown",
   "id": "8191d37f",
   "metadata": {},
   "source": [
    "<center>  \n",
    "    <h1> Exploring Sentiments: <I>Elon Musk Tweets </I>\n",
    "    <center>"
   ]
  },
  {
   "cell_type": "code",
   "execution_count": 1,
   "id": "296bbf54",
   "metadata": {
    "ExecuteTime": {
     "end_time": "2022-08-16T18:57:29.725844Z",
     "start_time": "2022-08-16T18:57:27.253882Z"
    }
   },
   "outputs": [
    {
     "name": "stdout",
     "output_type": "stream",
     "text": [
      "Requirement already satisfied: snscrape in c:\\users\\andre\\anaconda3\\lib\\site-packages (0.4.3.20220106)\n",
      "Requirement already satisfied: beautifulsoup4 in c:\\users\\andre\\anaconda3\\lib\\site-packages (from snscrape) (4.11.1)\n",
      "Requirement already satisfied: filelock in c:\\users\\andre\\anaconda3\\lib\\site-packages (from snscrape) (3.6.0)\n",
      "Requirement already satisfied: lxml in c:\\users\\andre\\anaconda3\\lib\\site-packages (from snscrape) (4.8.0)\n",
      "Requirement already satisfied: requests[socks] in c:\\users\\andre\\anaconda3\\lib\\site-packages (from snscrape) (2.28.0)\n",
      "Requirement already satisfied: soupsieve>1.2 in c:\\users\\andre\\anaconda3\\lib\\site-packages (from beautifulsoup4->snscrape) (2.3.1)\n",
      "Requirement already satisfied: idna<4,>=2.5 in c:\\users\\andre\\anaconda3\\lib\\site-packages (from requests[socks]->snscrape) (3.3)\n",
      "Requirement already satisfied: certifi>=2017.4.17 in c:\\users\\andre\\anaconda3\\lib\\site-packages (from requests[socks]->snscrape) (2022.6.15)\n",
      "Requirement already satisfied: charset-normalizer~=2.0.0 in c:\\users\\andre\\anaconda3\\lib\\site-packages (from requests[socks]->snscrape) (2.0.4)\n",
      "Requirement already satisfied: urllib3<1.27,>=1.21.1 in c:\\users\\andre\\anaconda3\\lib\\site-packages (from requests[socks]->snscrape) (1.26.9)\n",
      "Requirement already satisfied: PySocks!=1.5.7,>=1.5.6 in c:\\users\\andre\\anaconda3\\lib\\site-packages (from requests[socks]->snscrape) (1.7.1)\n"
     ]
    }
   ],
   "source": [
    "!pip3 install snscrape"
   ]
  },
  {
   "cell_type": "code",
   "execution_count": 2,
   "id": "c98b618f",
   "metadata": {
    "ExecuteTime": {
     "end_time": "2022-08-16T18:57:30.295631Z",
     "start_time": "2022-08-16T18:57:29.728189Z"
    }
   },
   "outputs": [],
   "source": [
    "import pandas as pd\n",
    "import snscrape.modules.twitter as sntwitter\n",
    "import itertools\n",
    "import warnings\n",
    "warnings.filterwarnings('ignore')"
   ]
  },
  {
   "cell_type": "markdown",
   "id": "9ef72749",
   "metadata": {},
   "source": [
    "## Importing tweets"
   ]
  },
  {
   "cell_type": "markdown",
   "id": "465b33b0",
   "metadata": {},
   "source": [
    "Search for the last 1000 tweets related to Elon Musk in London"
   ]
  },
  {
   "cell_type": "code",
   "execution_count": 3,
   "id": "5385f749",
   "metadata": {
    "ExecuteTime": {
     "end_time": "2022-08-16T18:58:02.606331Z",
     "start_time": "2022-08-16T18:57:30.295631Z"
    }
   },
   "outputs": [],
   "source": [
    "df = pd.DataFrame(itertools.islice(sntwitter.TwitterSearchScraper('elonmusk near:\"London\"').get_items(),1000))[['date', 'content', 'user']]"
   ]
  },
  {
   "cell_type": "code",
   "execution_count": 4,
   "id": "0b893f1f",
   "metadata": {
    "ExecuteTime": {
     "end_time": "2022-08-16T18:58:02.630278Z",
     "start_time": "2022-08-16T18:58:02.608995Z"
    }
   },
   "outputs": [
    {
     "data": {
      "text/html": [
       "<div>\n",
       "<style scoped>\n",
       "    .dataframe tbody tr th:only-of-type {\n",
       "        vertical-align: middle;\n",
       "    }\n",
       "\n",
       "    .dataframe tbody tr th {\n",
       "        vertical-align: top;\n",
       "    }\n",
       "\n",
       "    .dataframe thead th {\n",
       "        text-align: right;\n",
       "    }\n",
       "</style>\n",
       "<table border=\"1\" class=\"dataframe\">\n",
       "  <thead>\n",
       "    <tr style=\"text-align: right;\">\n",
       "      <th></th>\n",
       "      <th>date</th>\n",
       "      <th>content</th>\n",
       "      <th>user</th>\n",
       "    </tr>\n",
       "  </thead>\n",
       "  <tbody>\n",
       "    <tr>\n",
       "      <th>0</th>\n",
       "      <td>2022-08-16 18:53:19+00:00</td>\n",
       "      <td>@Tesla @elonmusk WOOOW 🥳 I’m not gonna be anti...</td>\n",
       "      <td>{'username': 'ScarletKnight_x', 'id': 13913788...</td>\n",
       "    </tr>\n",
       "    <tr>\n",
       "      <th>1</th>\n",
       "      <td>2022-08-16 18:52:14+00:00</td>\n",
       "      <td>@Harsh_Rojivadia @Tesla @elonmusk Tell that to...</td>\n",
       "      <td>{'username': 'Allin_on_Tesla', 'id': 146603932...</td>\n",
       "    </tr>\n",
       "    <tr>\n",
       "      <th>2</th>\n",
       "      <td>2022-08-16 18:47:19+00:00</td>\n",
       "      <td>@Tesla @elonmusk I often write Tesla poetry. I...</td>\n",
       "      <td>{'username': 'CatherinScience', 'id': 14495121...</td>\n",
       "    </tr>\n",
       "    <tr>\n",
       "      <th>3</th>\n",
       "      <td>2022-08-16 18:45:18+00:00</td>\n",
       "      <td>@Tesla @elonmusk Please can you hurry up with ...</td>\n",
       "      <td>{'username': 'StratusVerse', 'id': 12592412497...</td>\n",
       "    </tr>\n",
       "    <tr>\n",
       "      <th>4</th>\n",
       "      <td>2022-08-16 18:37:34+00:00</td>\n",
       "      <td>@WholeMarsBlog @RealDanODowd @elonmusk It does...</td>\n",
       "      <td>{'username': 'James_Hunt_1976', 'id': 10712622...</td>\n",
       "    </tr>\n",
       "  </tbody>\n",
       "</table>\n",
       "</div>"
      ],
      "text/plain": [
       "                       date  \\\n",
       "0 2022-08-16 18:53:19+00:00   \n",
       "1 2022-08-16 18:52:14+00:00   \n",
       "2 2022-08-16 18:47:19+00:00   \n",
       "3 2022-08-16 18:45:18+00:00   \n",
       "4 2022-08-16 18:37:34+00:00   \n",
       "\n",
       "                                             content  \\\n",
       "0  @Tesla @elonmusk WOOOW 🥳 I’m not gonna be anti...   \n",
       "1  @Harsh_Rojivadia @Tesla @elonmusk Tell that to...   \n",
       "2  @Tesla @elonmusk I often write Tesla poetry. I...   \n",
       "3  @Tesla @elonmusk Please can you hurry up with ...   \n",
       "4  @WholeMarsBlog @RealDanODowd @elonmusk It does...   \n",
       "\n",
       "                                                user  \n",
       "0  {'username': 'ScarletKnight_x', 'id': 13913788...  \n",
       "1  {'username': 'Allin_on_Tesla', 'id': 146603932...  \n",
       "2  {'username': 'CatherinScience', 'id': 14495121...  \n",
       "3  {'username': 'StratusVerse', 'id': 12592412497...  \n",
       "4  {'username': 'James_Hunt_1976', 'id': 10712622...  "
      ]
     },
     "execution_count": 4,
     "metadata": {},
     "output_type": "execute_result"
    }
   ],
   "source": [
    "df.head()"
   ]
  },
  {
   "cell_type": "markdown",
   "id": "7a356cdd",
   "metadata": {},
   "source": [
    "## Data pre-processing"
   ]
  },
  {
   "cell_type": "code",
   "execution_count": 5,
   "id": "7be08cf7",
   "metadata": {
    "ExecuteTime": {
     "end_time": "2022-08-16T18:58:05.006914Z",
     "start_time": "2022-08-16T18:58:02.633774Z"
    }
   },
   "outputs": [
    {
     "name": "stdout",
     "output_type": "stream",
     "text": [
      "Requirement already satisfied: wordcloud in c:\\users\\andre\\anaconda3\\lib\\site-packages (1.8.2.2)\n",
      "Requirement already satisfied: numpy>=1.6.1 in c:\\users\\andre\\anaconda3\\lib\\site-packages (from wordcloud) (1.22.4)\n",
      "Requirement already satisfied: matplotlib in c:\\users\\andre\\anaconda3\\lib\\site-packages (from wordcloud) (3.5.1)\n",
      "Requirement already satisfied: pillow in c:\\users\\andre\\anaconda3\\lib\\site-packages (from wordcloud) (9.0.1)\n",
      "Requirement already satisfied: cycler>=0.10 in c:\\users\\andre\\anaconda3\\lib\\site-packages (from matplotlib->wordcloud) (0.11.0)\n",
      "Requirement already satisfied: kiwisolver>=1.0.1 in c:\\users\\andre\\anaconda3\\lib\\site-packages (from matplotlib->wordcloud) (1.4.2)\n",
      "Requirement already satisfied: packaging>=20.0 in c:\\users\\andre\\anaconda3\\lib\\site-packages (from matplotlib->wordcloud) (21.3)\n",
      "Requirement already satisfied: pyparsing>=2.2.1 in c:\\users\\andre\\anaconda3\\lib\\site-packages (from matplotlib->wordcloud) (3.0.4)\n",
      "Requirement already satisfied: fonttools>=4.22.0 in c:\\users\\andre\\anaconda3\\lib\\site-packages (from matplotlib->wordcloud) (4.25.0)\n",
      "Requirement already satisfied: python-dateutil>=2.7 in c:\\users\\andre\\anaconda3\\lib\\site-packages (from matplotlib->wordcloud) (2.8.2)\n",
      "Requirement already satisfied: six>=1.5 in c:\\users\\andre\\anaconda3\\lib\\site-packages (from python-dateutil>=2.7->matplotlib->wordcloud) (1.16.0)\n"
     ]
    }
   ],
   "source": [
    "!pip3 install wordcloud"
   ]
  },
  {
   "cell_type": "code",
   "execution_count": 6,
   "id": "9bab2baf",
   "metadata": {
    "ExecuteTime": {
     "end_time": "2022-08-16T18:58:05.556476Z",
     "start_time": "2022-08-16T18:58:05.008889Z"
    }
   },
   "outputs": [],
   "source": [
    "from wordcloud import WordCloud, STOPWORDS\n",
    "import matplotlib.pyplot as plt\n",
    "import pandas as pd"
   ]
  },
  {
   "cell_type": "code",
   "execution_count": 7,
   "id": "5b43cd44",
   "metadata": {
    "ExecuteTime": {
     "end_time": "2022-08-16T18:58:05.572423Z",
     "start_time": "2022-08-16T18:58:05.556476Z"
    }
   },
   "outputs": [],
   "source": [
    "import re"
   ]
  },
  {
   "cell_type": "code",
   "execution_count": 8,
   "id": "06cc7139",
   "metadata": {
    "ExecuteTime": {
     "end_time": "2022-08-16T18:58:05.587704Z",
     "start_time": "2022-08-16T18:58:05.573625Z"
    }
   },
   "outputs": [],
   "source": [
    "def clean(x):\n",
    " x = re.sub(r'^RT[\\s]+', '', x)\n",
    " x = re.sub(r'https?:\\/\\/.*[\\r\\n]*', '', x)\n",
    " x = re.sub(r'#', '', x)\n",
    " x = re.sub(r'@[A-Za-z0–9]+', '', x) \n",
    " return x"
   ]
  },
  {
   "cell_type": "code",
   "execution_count": 9,
   "id": "faf45b23",
   "metadata": {
    "ExecuteTime": {
     "end_time": "2022-08-16T18:58:05.603556Z",
     "start_time": "2022-08-16T18:58:05.589624Z"
    }
   },
   "outputs": [],
   "source": [
    "df['text'] = df['content'].apply(clean)"
   ]
  },
  {
   "cell_type": "code",
   "execution_count": 10,
   "id": "84a0d253",
   "metadata": {
    "ExecuteTime": {
     "end_time": "2022-08-16T18:58:05.618989Z",
     "start_time": "2022-08-16T18:58:05.606072Z"
    }
   },
   "outputs": [],
   "source": [
    "df = df[['date', 'content', 'user', 'text']]"
   ]
  },
  {
   "cell_type": "code",
   "execution_count": 11,
   "id": "e8b29866",
   "metadata": {
    "ExecuteTime": {
     "end_time": "2022-08-16T18:58:05.634764Z",
     "start_time": "2022-08-16T18:58:05.620409Z"
    }
   },
   "outputs": [
    {
     "data": {
      "text/html": [
       "<div>\n",
       "<style scoped>\n",
       "    .dataframe tbody tr th:only-of-type {\n",
       "        vertical-align: middle;\n",
       "    }\n",
       "\n",
       "    .dataframe tbody tr th {\n",
       "        vertical-align: top;\n",
       "    }\n",
       "\n",
       "    .dataframe thead th {\n",
       "        text-align: right;\n",
       "    }\n",
       "</style>\n",
       "<table border=\"1\" class=\"dataframe\">\n",
       "  <thead>\n",
       "    <tr style=\"text-align: right;\">\n",
       "      <th></th>\n",
       "      <th>date</th>\n",
       "      <th>content</th>\n",
       "      <th>user</th>\n",
       "      <th>text</th>\n",
       "    </tr>\n",
       "  </thead>\n",
       "  <tbody>\n",
       "    <tr>\n",
       "      <th>0</th>\n",
       "      <td>2022-08-16 18:53:19+00:00</td>\n",
       "      <td>@Tesla @elonmusk WOOOW 🥳 I’m not gonna be anti...</td>\n",
       "      <td>{'username': 'ScarletKnight_x', 'id': 13913788...</td>\n",
       "      <td>WOOOW 🥳 I’m not gonna be anti social anymore</td>\n",
       "    </tr>\n",
       "    <tr>\n",
       "      <th>1</th>\n",
       "      <td>2022-08-16 18:52:14+00:00</td>\n",
       "      <td>@Harsh_Rojivadia @Tesla @elonmusk Tell that to...</td>\n",
       "      <td>{'username': 'Allin_on_Tesla', 'id': 146603932...</td>\n",
       "      <td>_Rojivadia   Tell that to Modi.</td>\n",
       "    </tr>\n",
       "    <tr>\n",
       "      <th>2</th>\n",
       "      <td>2022-08-16 18:47:19+00:00</td>\n",
       "      <td>@Tesla @elonmusk I often write Tesla poetry. I...</td>\n",
       "      <td>{'username': 'CatherinScience', 'id': 14495121...</td>\n",
       "      <td>I often write Tesla poetry. It not only help...</td>\n",
       "    </tr>\n",
       "    <tr>\n",
       "      <th>3</th>\n",
       "      <td>2022-08-16 18:45:18+00:00</td>\n",
       "      <td>@Tesla @elonmusk Please can you hurry up with ...</td>\n",
       "      <td>{'username': 'StratusVerse', 'id': 12592412497...</td>\n",
       "      <td>Please can you hurry up with mine I’m curren...</td>\n",
       "    </tr>\n",
       "    <tr>\n",
       "      <th>4</th>\n",
       "      <td>2022-08-16 18:37:34+00:00</td>\n",
       "      <td>@WholeMarsBlog @RealDanODowd @elonmusk It does...</td>\n",
       "      <td>{'username': 'James_Hunt_1976', 'id': 10712622...</td>\n",
       "      <td>It doesn't look like that car was self-driv...</td>\n",
       "    </tr>\n",
       "  </tbody>\n",
       "</table>\n",
       "</div>"
      ],
      "text/plain": [
       "                       date  \\\n",
       "0 2022-08-16 18:53:19+00:00   \n",
       "1 2022-08-16 18:52:14+00:00   \n",
       "2 2022-08-16 18:47:19+00:00   \n",
       "3 2022-08-16 18:45:18+00:00   \n",
       "4 2022-08-16 18:37:34+00:00   \n",
       "\n",
       "                                             content  \\\n",
       "0  @Tesla @elonmusk WOOOW 🥳 I’m not gonna be anti...   \n",
       "1  @Harsh_Rojivadia @Tesla @elonmusk Tell that to...   \n",
       "2  @Tesla @elonmusk I often write Tesla poetry. I...   \n",
       "3  @Tesla @elonmusk Please can you hurry up with ...   \n",
       "4  @WholeMarsBlog @RealDanODowd @elonmusk It does...   \n",
       "\n",
       "                                                user  \\\n",
       "0  {'username': 'ScarletKnight_x', 'id': 13913788...   \n",
       "1  {'username': 'Allin_on_Tesla', 'id': 146603932...   \n",
       "2  {'username': 'CatherinScience', 'id': 14495121...   \n",
       "3  {'username': 'StratusVerse', 'id': 12592412497...   \n",
       "4  {'username': 'James_Hunt_1976', 'id': 10712622...   \n",
       "\n",
       "                                                text  \n",
       "0       WOOOW 🥳 I’m not gonna be anti social anymore  \n",
       "1                    _Rojivadia   Tell that to Modi.  \n",
       "2    I often write Tesla poetry. It not only help...  \n",
       "3    Please can you hurry up with mine I’m curren...  \n",
       "4     It doesn't look like that car was self-driv...  "
      ]
     },
     "execution_count": 11,
     "metadata": {},
     "output_type": "execute_result"
    }
   ],
   "source": [
    "df.head()"
   ]
  },
  {
   "cell_type": "markdown",
   "id": "4960591d",
   "metadata": {},
   "source": [
    "Convert to lower case"
   ]
  },
  {
   "cell_type": "code",
   "execution_count": 12,
   "id": "1a298bb8",
   "metadata": {
    "ExecuteTime": {
     "end_time": "2022-08-16T18:58:05.666168Z",
     "start_time": "2022-08-16T18:58:05.636530Z"
    }
   },
   "outputs": [
    {
     "data": {
      "text/html": [
       "<div>\n",
       "<style scoped>\n",
       "    .dataframe tbody tr th:only-of-type {\n",
       "        vertical-align: middle;\n",
       "    }\n",
       "\n",
       "    .dataframe tbody tr th {\n",
       "        vertical-align: top;\n",
       "    }\n",
       "\n",
       "    .dataframe thead th {\n",
       "        text-align: right;\n",
       "    }\n",
       "</style>\n",
       "<table border=\"1\" class=\"dataframe\">\n",
       "  <thead>\n",
       "    <tr style=\"text-align: right;\">\n",
       "      <th></th>\n",
       "      <th>date</th>\n",
       "      <th>content</th>\n",
       "      <th>user</th>\n",
       "      <th>text</th>\n",
       "      <th>text_lower</th>\n",
       "    </tr>\n",
       "  </thead>\n",
       "  <tbody>\n",
       "    <tr>\n",
       "      <th>0</th>\n",
       "      <td>2022-08-16 18:53:19+00:00</td>\n",
       "      <td>@Tesla @elonmusk WOOOW 🥳 I’m not gonna be anti...</td>\n",
       "      <td>{'username': 'ScarletKnight_x', 'id': 13913788...</td>\n",
       "      <td>WOOOW 🥳 I’m not gonna be anti social anymore</td>\n",
       "      <td>wooow 🥳 i’m not gonna be anti social anymore</td>\n",
       "    </tr>\n",
       "    <tr>\n",
       "      <th>1</th>\n",
       "      <td>2022-08-16 18:52:14+00:00</td>\n",
       "      <td>@Harsh_Rojivadia @Tesla @elonmusk Tell that to...</td>\n",
       "      <td>{'username': 'Allin_on_Tesla', 'id': 146603932...</td>\n",
       "      <td>_Rojivadia   Tell that to Modi.</td>\n",
       "      <td>_rojivadia tell that to modi.</td>\n",
       "    </tr>\n",
       "    <tr>\n",
       "      <th>2</th>\n",
       "      <td>2022-08-16 18:47:19+00:00</td>\n",
       "      <td>@Tesla @elonmusk I often write Tesla poetry. I...</td>\n",
       "      <td>{'username': 'CatherinScience', 'id': 14495121...</td>\n",
       "      <td>I often write Tesla poetry. It not only help...</td>\n",
       "      <td>i often write tesla poetry. it not only helps ...</td>\n",
       "    </tr>\n",
       "    <tr>\n",
       "      <th>3</th>\n",
       "      <td>2022-08-16 18:45:18+00:00</td>\n",
       "      <td>@Tesla @elonmusk Please can you hurry up with ...</td>\n",
       "      <td>{'username': 'StratusVerse', 'id': 12592412497...</td>\n",
       "      <td>Please can you hurry up with mine I’m curren...</td>\n",
       "      <td>please can you hurry up with mine i’m currentl...</td>\n",
       "    </tr>\n",
       "    <tr>\n",
       "      <th>4</th>\n",
       "      <td>2022-08-16 18:37:34+00:00</td>\n",
       "      <td>@WholeMarsBlog @RealDanODowd @elonmusk It does...</td>\n",
       "      <td>{'username': 'James_Hunt_1976', 'id': 10712622...</td>\n",
       "      <td>It doesn't look like that car was self-driv...</td>\n",
       "      <td>it doesn't look like that car was self-driving:</td>\n",
       "    </tr>\n",
       "  </tbody>\n",
       "</table>\n",
       "</div>"
      ],
      "text/plain": [
       "                       date  \\\n",
       "0 2022-08-16 18:53:19+00:00   \n",
       "1 2022-08-16 18:52:14+00:00   \n",
       "2 2022-08-16 18:47:19+00:00   \n",
       "3 2022-08-16 18:45:18+00:00   \n",
       "4 2022-08-16 18:37:34+00:00   \n",
       "\n",
       "                                             content  \\\n",
       "0  @Tesla @elonmusk WOOOW 🥳 I’m not gonna be anti...   \n",
       "1  @Harsh_Rojivadia @Tesla @elonmusk Tell that to...   \n",
       "2  @Tesla @elonmusk I often write Tesla poetry. I...   \n",
       "3  @Tesla @elonmusk Please can you hurry up with ...   \n",
       "4  @WholeMarsBlog @RealDanODowd @elonmusk It does...   \n",
       "\n",
       "                                                user  \\\n",
       "0  {'username': 'ScarletKnight_x', 'id': 13913788...   \n",
       "1  {'username': 'Allin_on_Tesla', 'id': 146603932...   \n",
       "2  {'username': 'CatherinScience', 'id': 14495121...   \n",
       "3  {'username': 'StratusVerse', 'id': 12592412497...   \n",
       "4  {'username': 'James_Hunt_1976', 'id': 10712622...   \n",
       "\n",
       "                                                text  \\\n",
       "0       WOOOW 🥳 I’m not gonna be anti social anymore   \n",
       "1                    _Rojivadia   Tell that to Modi.   \n",
       "2    I often write Tesla poetry. It not only help...   \n",
       "3    Please can you hurry up with mine I’m curren...   \n",
       "4     It doesn't look like that car was self-driv...   \n",
       "\n",
       "                                          text_lower  \n",
       "0       wooow 🥳 i’m not gonna be anti social anymore  \n",
       "1                      _rojivadia tell that to modi.  \n",
       "2  i often write tesla poetry. it not only helps ...  \n",
       "3  please can you hurry up with mine i’m currentl...  \n",
       "4    it doesn't look like that car was self-driving:  "
      ]
     },
     "execution_count": 12,
     "metadata": {},
     "output_type": "execute_result"
    }
   ],
   "source": [
    "df['text_lower'] = df['text'].apply(lambda x: \" \".join(x.lower() for x in x.split()))\n",
    "df.head()"
   ]
  },
  {
   "cell_type": "markdown",
   "id": "325cf861",
   "metadata": {},
   "source": [
    "Replace punctuation"
   ]
  },
  {
   "cell_type": "code",
   "execution_count": 13,
   "id": "e1809009",
   "metadata": {
    "ExecuteTime": {
     "end_time": "2022-08-16T18:58:05.869297Z",
     "start_time": "2022-08-16T18:58:05.667082Z"
    }
   },
   "outputs": [
    {
     "data": {
      "text/plain": [
       "0           wooow  im not gonna be anti social anymore\n",
       "1                         _rojivadia tell that to modi\n",
       "2    i often write tesla poetry it not only helps e...\n",
       "3    please can you hurry up with mine im currently...\n",
       "4         it doesnt look like that car was selfdriving\n",
       "Name: text_punc, dtype: object"
      ]
     },
     "execution_count": 13,
     "metadata": {},
     "output_type": "execute_result"
    }
   ],
   "source": [
    "df['text_punc'] = df['text_lower'].str.replace('[^\\w\\s]', '')\n",
    "df['text_punc'].head()"
   ]
  },
  {
   "cell_type": "markdown",
   "id": "216929b7",
   "metadata": {},
   "source": [
    "Stopwords"
   ]
  },
  {
   "cell_type": "code",
   "execution_count": 14,
   "id": "bf2b5037",
   "metadata": {
    "ExecuteTime": {
     "end_time": "2022-08-16T18:58:06.534016Z",
     "start_time": "2022-08-16T18:58:05.871269Z"
    }
   },
   "outputs": [],
   "source": [
    "import unicodedata\n",
    "import nltk\n",
    "from nltk.corpus import stopwords"
   ]
  },
  {
   "cell_type": "code",
   "execution_count": 15,
   "id": "dbd2e7b5",
   "metadata": {
    "ExecuteTime": {
     "end_time": "2022-08-16T18:58:06.658700Z",
     "start_time": "2022-08-16T18:58:06.534016Z"
    }
   },
   "outputs": [
    {
     "name": "stderr",
     "output_type": "stream",
     "text": [
      "[nltk_data] Downloading package stopwords to\n",
      "[nltk_data]     C:\\Users\\andre\\AppData\\Roaming\\nltk_data...\n",
      "[nltk_data]   Package stopwords is already up-to-date!\n"
     ]
    },
    {
     "data": {
      "text/plain": [
       "True"
      ]
     },
     "execution_count": 15,
     "metadata": {},
     "output_type": "execute_result"
    }
   ],
   "source": [
    "import nltk\n",
    "nltk.download('stopwords')"
   ]
  },
  {
   "cell_type": "code",
   "execution_count": 16,
   "id": "0f00ea87",
   "metadata": {
    "ExecuteTime": {
     "end_time": "2022-08-16T18:58:06.689391Z",
     "start_time": "2022-08-16T18:58:06.659698Z"
    }
   },
   "outputs": [
    {
     "name": "stderr",
     "output_type": "stream",
     "text": [
      "[nltk_data] Downloading package wordnet to\n",
      "[nltk_data]     C:\\Users\\andre\\AppData\\Roaming\\nltk_data...\n",
      "[nltk_data]   Package wordnet is already up-to-date!\n"
     ]
    },
    {
     "data": {
      "text/plain": [
       "True"
      ]
     },
     "execution_count": 16,
     "metadata": {},
     "output_type": "execute_result"
    }
   ],
   "source": [
    "nltk.download('wordnet')"
   ]
  },
  {
   "cell_type": "code",
   "execution_count": 17,
   "id": "8a35f141",
   "metadata": {
    "ExecuteTime": {
     "end_time": "2022-08-16T18:58:06.704707Z",
     "start_time": "2022-08-16T18:58:06.690300Z"
    }
   },
   "outputs": [],
   "source": [
    "stopwords = nltk.corpus.stopwords.words('english') "
   ]
  },
  {
   "cell_type": "code",
   "execution_count": 18,
   "id": "2cf65699",
   "metadata": {
    "ExecuteTime": {
     "end_time": "2022-08-16T18:58:06.735894Z",
     "start_time": "2022-08-16T18:58:06.706708Z"
    }
   },
   "outputs": [],
   "source": [
    "df['text_punc_words'] = df['text_punc'].apply(lambda x: \" \".join(x for x in x.split() if x not in stopwords))"
   ]
  },
  {
   "cell_type": "code",
   "execution_count": 19,
   "id": "b9e63256",
   "metadata": {
    "ExecuteTime": {
     "end_time": "2022-08-16T18:58:06.751553Z",
     "start_time": "2022-08-16T18:58:06.737532Z"
    }
   },
   "outputs": [
    {
     "data": {
      "text/plain": [
       "0                   wooow im gonna anti social anymore\n",
       "1                                 _rojivadia tell modi\n",
       "2    often write tesla poetry helps earth amazing p...\n",
       "3    please hurry mine im currently bus wanker uk c...\n",
       "4                     doesnt look like car selfdriving\n",
       "Name: text_punc_words, dtype: object"
      ]
     },
     "execution_count": 19,
     "metadata": {},
     "output_type": "execute_result"
    }
   ],
   "source": [
    "df['text_punc_words'].head()"
   ]
  },
  {
   "cell_type": "markdown",
   "id": "64f1c1a1",
   "metadata": {},
   "source": [
    "### Stemming and Lemitization"
   ]
  },
  {
   "cell_type": "markdown",
   "id": "9c1f2c50",
   "metadata": {},
   "source": [
    "<b>Stemming</b> is the process of reducing inflection in words to their root forms such as mapping a group of words to the same stem even if the stem itself is not a valid word in the Language."
   ]
  },
  {
   "cell_type": "markdown",
   "id": "3ba501ec",
   "metadata": {},
   "source": [
    "<b>Lemmatization</b>, unlike Stemming, reduces the inflected words properly ensuring that the root word belongs to the language. In Lemmatization root word is called Lemma. A lemma (plural lemmas or lemmata) is the canonical form, dictionary form, or citation form of a set of words."
   ]
  },
  {
   "cell_type": "code",
   "execution_count": 20,
   "id": "563b87dd",
   "metadata": {
    "ExecuteTime": {
     "end_time": "2022-08-16T18:58:06.767563Z",
     "start_time": "2022-08-16T18:58:06.753552Z"
    }
   },
   "outputs": [],
   "source": [
    "from nltk.stem import PorterStemmer\n",
    "st = PorterStemmer()\n"
   ]
  },
  {
   "cell_type": "code",
   "execution_count": 21,
   "id": "e4270cd0",
   "metadata": {
    "ExecuteTime": {
     "end_time": "2022-08-16T18:58:09.136960Z",
     "start_time": "2022-08-16T18:58:06.769075Z"
    }
   },
   "outputs": [
    {
     "name": "stdout",
     "output_type": "stream",
     "text": [
      "Requirement already satisfied: textblob in c:\\users\\andre\\anaconda3\\lib\\site-packages (0.17.1)\n",
      "Requirement already satisfied: nltk>=3.1 in c:\\users\\andre\\anaconda3\\lib\\site-packages (from textblob) (3.7)\n",
      "Requirement already satisfied: click in c:\\users\\andre\\anaconda3\\lib\\site-packages (from nltk>=3.1->textblob) (8.0.4)\n",
      "Requirement already satisfied: joblib in c:\\users\\andre\\anaconda3\\lib\\site-packages (from nltk>=3.1->textblob) (1.1.0)\n",
      "Requirement already satisfied: tqdm in c:\\users\\andre\\anaconda3\\lib\\site-packages (from nltk>=3.1->textblob) (4.64.0)\n",
      "Requirement already satisfied: regex>=2021.8.3 in c:\\users\\andre\\anaconda3\\lib\\site-packages (from nltk>=3.1->textblob) (2022.3.15)\n",
      "Requirement already satisfied: colorama in c:\\users\\andre\\anaconda3\\lib\\site-packages (from click->nltk>=3.1->textblob) (0.4.4)\n"
     ]
    }
   ],
   "source": [
    "!pip3 install textblob"
   ]
  },
  {
   "cell_type": "code",
   "execution_count": 22,
   "id": "60cb9137",
   "metadata": {
    "ExecuteTime": {
     "end_time": "2022-08-16T18:58:09.184045Z",
     "start_time": "2022-08-16T18:58:09.137870Z"
    }
   },
   "outputs": [],
   "source": [
    "import textblob\n",
    "from textblob import TextBlob, Word, Blobber"
   ]
  },
  {
   "cell_type": "code",
   "execution_count": 23,
   "id": "5ca33b49",
   "metadata": {
    "ExecuteTime": {
     "end_time": "2022-08-16T18:58:09.312008Z",
     "start_time": "2022-08-16T18:58:09.184996Z"
    }
   },
   "outputs": [],
   "source": [
    "df['text_stem'] = df['text_punc_words'].apply(lambda x: \" \".join([st.stem(word) for word in x.split()]))"
   ]
  },
  {
   "cell_type": "markdown",
   "id": "412bd3e6",
   "metadata": {},
   "source": [
    "Lemmatization to bring the words in their root form"
   ]
  },
  {
   "cell_type": "code",
   "execution_count": 24,
   "id": "2b8df23a",
   "metadata": {
    "ExecuteTime": {
     "end_time": "2022-08-16T18:58:10.368133Z",
     "start_time": "2022-08-16T18:58:09.312911Z"
    }
   },
   "outputs": [
    {
     "name": "stderr",
     "output_type": "stream",
     "text": [
      "[nltk_data] Downloading package omw-1.4 to\n",
      "[nltk_data]     C:\\Users\\andre\\AppData\\Roaming\\nltk_data...\n",
      "[nltk_data]   Package omw-1.4 is already up-to-date!\n"
     ]
    },
    {
     "data": {
      "text/plain": [
       "0                    wooow im gonna anti social anymor\n",
       "1                                 _rojivadia tell modi\n",
       "2    often write tesla poetri help earth amaz piec ...\n",
       "3    plea hurri mine im current bu wanker uk curren...\n",
       "4                        doesnt look like car selfdriv\n",
       "Name: text_lem, dtype: object"
      ]
     },
     "execution_count": 24,
     "metadata": {},
     "output_type": "execute_result"
    }
   ],
   "source": [
    "import nltk\n",
    "nltk.download('omw-1.4')\n",
    "df['text_lem'] = df['text_stem'].apply(lambda x: \" \".join([Word(word).lemmatize() for word in x.split()]))\n",
    "df['text_lem'].head()"
   ]
  },
  {
   "cell_type": "markdown",
   "id": "0707e530",
   "metadata": {},
   "source": [
    "## Polarity & Subjectivity"
   ]
  },
  {
   "cell_type": "markdown",
   "id": "af1e3a4c",
   "metadata": {},
   "source": [
    "### Polarity"
   ]
  },
  {
   "cell_type": "markdown",
   "id": "ac09daf2",
   "metadata": {},
   "source": [
    "Polarity refers to the strength of an opinion. It could be positive or negative. If something has a strong positive feeling or emotion associated with it, such as admiration, trust, love; this will indeed have a certain orientation towards all other aspects of that object’s existence. The same goes for negative polarities. A good example would be the following: ‘I don’t think I’ll buy this item because my previous experience with a similar item wasn’t so good.’ That will have a negative polarity."
   ]
  },
  {
   "cell_type": "code",
   "execution_count": 25,
   "id": "670f83c2",
   "metadata": {
    "ExecuteTime": {
     "end_time": "2022-08-16T18:58:10.495121Z",
     "start_time": "2022-08-16T18:58:10.370201Z"
    }
   },
   "outputs": [
    {
     "data": {
      "text/html": [
       "<div>\n",
       "<style scoped>\n",
       "    .dataframe tbody tr th:only-of-type {\n",
       "        vertical-align: middle;\n",
       "    }\n",
       "\n",
       "    .dataframe tbody tr th {\n",
       "        vertical-align: top;\n",
       "    }\n",
       "\n",
       "    .dataframe thead th {\n",
       "        text-align: right;\n",
       "    }\n",
       "</style>\n",
       "<table border=\"1\" class=\"dataframe\">\n",
       "  <thead>\n",
       "    <tr style=\"text-align: right;\">\n",
       "      <th></th>\n",
       "      <th>date</th>\n",
       "      <th>content</th>\n",
       "      <th>user</th>\n",
       "      <th>text</th>\n",
       "      <th>text_lower</th>\n",
       "      <th>text_punc</th>\n",
       "      <th>text_punc_words</th>\n",
       "      <th>text_stem</th>\n",
       "      <th>text_lem</th>\n",
       "      <th>polarity</th>\n",
       "    </tr>\n",
       "  </thead>\n",
       "  <tbody>\n",
       "    <tr>\n",
       "      <th>0</th>\n",
       "      <td>2022-08-16 18:53:19+00:00</td>\n",
       "      <td>@Tesla @elonmusk WOOOW 🥳 I’m not gonna be anti...</td>\n",
       "      <td>{'username': 'ScarletKnight_x', 'id': 13913788...</td>\n",
       "      <td>WOOOW 🥳 I’m not gonna be anti social anymore</td>\n",
       "      <td>wooow 🥳 i’m not gonna be anti social anymore</td>\n",
       "      <td>wooow  im not gonna be anti social anymore</td>\n",
       "      <td>wooow im gonna anti social anymore</td>\n",
       "      <td>wooow im gonna anti social anymor</td>\n",
       "      <td>wooow im gonna anti social anymor</td>\n",
       "      <td>0.033333</td>\n",
       "    </tr>\n",
       "    <tr>\n",
       "      <th>1</th>\n",
       "      <td>2022-08-16 18:52:14+00:00</td>\n",
       "      <td>@Harsh_Rojivadia @Tesla @elonmusk Tell that to...</td>\n",
       "      <td>{'username': 'Allin_on_Tesla', 'id': 146603932...</td>\n",
       "      <td>_Rojivadia   Tell that to Modi.</td>\n",
       "      <td>_rojivadia tell that to modi.</td>\n",
       "      <td>_rojivadia tell that to modi</td>\n",
       "      <td>_rojivadia tell modi</td>\n",
       "      <td>_rojivadia tell modi</td>\n",
       "      <td>_rojivadia tell modi</td>\n",
       "      <td>0.000000</td>\n",
       "    </tr>\n",
       "    <tr>\n",
       "      <th>2</th>\n",
       "      <td>2022-08-16 18:47:19+00:00</td>\n",
       "      <td>@Tesla @elonmusk I often write Tesla poetry. I...</td>\n",
       "      <td>{'username': 'CatherinScience', 'id': 14495121...</td>\n",
       "      <td>I often write Tesla poetry. It not only help...</td>\n",
       "      <td>i often write tesla poetry. it not only helps ...</td>\n",
       "      <td>i often write tesla poetry it not only helps e...</td>\n",
       "      <td>often write tesla poetry helps earth amazing p...</td>\n",
       "      <td>often write tesla poetri help earth amaz piec ...</td>\n",
       "      <td>often write tesla poetri help earth amaz piec ...</td>\n",
       "      <td>0.000000</td>\n",
       "    </tr>\n",
       "    <tr>\n",
       "      <th>3</th>\n",
       "      <td>2022-08-16 18:45:18+00:00</td>\n",
       "      <td>@Tesla @elonmusk Please can you hurry up with ...</td>\n",
       "      <td>{'username': 'StratusVerse', 'id': 12592412497...</td>\n",
       "      <td>Please can you hurry up with mine I’m curren...</td>\n",
       "      <td>please can you hurry up with mine i’m currentl...</td>\n",
       "      <td>please can you hurry up with mine im currently...</td>\n",
       "      <td>please hurry mine im currently bus wanker uk c...</td>\n",
       "      <td>pleas hurri mine im current bu wanker uk curre...</td>\n",
       "      <td>plea hurri mine im current bu wanker uk curren...</td>\n",
       "      <td>0.000000</td>\n",
       "    </tr>\n",
       "    <tr>\n",
       "      <th>4</th>\n",
       "      <td>2022-08-16 18:37:34+00:00</td>\n",
       "      <td>@WholeMarsBlog @RealDanODowd @elonmusk It does...</td>\n",
       "      <td>{'username': 'James_Hunt_1976', 'id': 10712622...</td>\n",
       "      <td>It doesn't look like that car was self-driv...</td>\n",
       "      <td>it doesn't look like that car was self-driving:</td>\n",
       "      <td>it doesnt look like that car was selfdriving</td>\n",
       "      <td>doesnt look like car selfdriving</td>\n",
       "      <td>doesnt look like car selfdriv</td>\n",
       "      <td>doesnt look like car selfdriv</td>\n",
       "      <td>0.000000</td>\n",
       "    </tr>\n",
       "  </tbody>\n",
       "</table>\n",
       "</div>"
      ],
      "text/plain": [
       "                       date  \\\n",
       "0 2022-08-16 18:53:19+00:00   \n",
       "1 2022-08-16 18:52:14+00:00   \n",
       "2 2022-08-16 18:47:19+00:00   \n",
       "3 2022-08-16 18:45:18+00:00   \n",
       "4 2022-08-16 18:37:34+00:00   \n",
       "\n",
       "                                             content  \\\n",
       "0  @Tesla @elonmusk WOOOW 🥳 I’m not gonna be anti...   \n",
       "1  @Harsh_Rojivadia @Tesla @elonmusk Tell that to...   \n",
       "2  @Tesla @elonmusk I often write Tesla poetry. I...   \n",
       "3  @Tesla @elonmusk Please can you hurry up with ...   \n",
       "4  @WholeMarsBlog @RealDanODowd @elonmusk It does...   \n",
       "\n",
       "                                                user  \\\n",
       "0  {'username': 'ScarletKnight_x', 'id': 13913788...   \n",
       "1  {'username': 'Allin_on_Tesla', 'id': 146603932...   \n",
       "2  {'username': 'CatherinScience', 'id': 14495121...   \n",
       "3  {'username': 'StratusVerse', 'id': 12592412497...   \n",
       "4  {'username': 'James_Hunt_1976', 'id': 10712622...   \n",
       "\n",
       "                                                text  \\\n",
       "0       WOOOW 🥳 I’m not gonna be anti social anymore   \n",
       "1                    _Rojivadia   Tell that to Modi.   \n",
       "2    I often write Tesla poetry. It not only help...   \n",
       "3    Please can you hurry up with mine I’m curren...   \n",
       "4     It doesn't look like that car was self-driv...   \n",
       "\n",
       "                                          text_lower  \\\n",
       "0       wooow 🥳 i’m not gonna be anti social anymore   \n",
       "1                      _rojivadia tell that to modi.   \n",
       "2  i often write tesla poetry. it not only helps ...   \n",
       "3  please can you hurry up with mine i’m currentl...   \n",
       "4    it doesn't look like that car was self-driving:   \n",
       "\n",
       "                                           text_punc  \\\n",
       "0         wooow  im not gonna be anti social anymore   \n",
       "1                       _rojivadia tell that to modi   \n",
       "2  i often write tesla poetry it not only helps e...   \n",
       "3  please can you hurry up with mine im currently...   \n",
       "4       it doesnt look like that car was selfdriving   \n",
       "\n",
       "                                     text_punc_words  \\\n",
       "0                 wooow im gonna anti social anymore   \n",
       "1                               _rojivadia tell modi   \n",
       "2  often write tesla poetry helps earth amazing p...   \n",
       "3  please hurry mine im currently bus wanker uk c...   \n",
       "4                   doesnt look like car selfdriving   \n",
       "\n",
       "                                           text_stem  \\\n",
       "0                  wooow im gonna anti social anymor   \n",
       "1                               _rojivadia tell modi   \n",
       "2  often write tesla poetri help earth amaz piec ...   \n",
       "3  pleas hurri mine im current bu wanker uk curre...   \n",
       "4                      doesnt look like car selfdriv   \n",
       "\n",
       "                                            text_lem  polarity  \n",
       "0                  wooow im gonna anti social anymor  0.033333  \n",
       "1                               _rojivadia tell modi  0.000000  \n",
       "2  often write tesla poetri help earth amaz piec ...  0.000000  \n",
       "3  plea hurri mine im current bu wanker uk curren...  0.000000  \n",
       "4                      doesnt look like car selfdriv  0.000000  "
      ]
     },
     "execution_count": 25,
     "metadata": {},
     "output_type": "execute_result"
    }
   ],
   "source": [
    "df['polarity'] = df['text_lem'].map(lambda text: TextBlob(text).sentiment.polarity)\n",
    "df.head()"
   ]
  },
  {
   "cell_type": "markdown",
   "id": "24551c5d",
   "metadata": {},
   "source": [
    "### Subjectivity"
   ]
  },
  {
   "cell_type": "markdown",
   "id": "21a3e36f",
   "metadata": {},
   "source": [
    "Subjectivity refers to the degree to which a person is personally involved in an object. What matters the most here are personal connections and individual experiences with that object, which may or may not differ from someone else’s point of view. For example: ‘I’m very happy with my new smartphone because it has the highest performance available on the market.’ Similarly to polarity, strong subjectivity may be negative or positive. The statement here is clearly subjective because the user is actually talking about his experience and how he feels about an object."
   ]
  },
  {
   "cell_type": "code",
   "execution_count": 26,
   "id": "c12ff31a",
   "metadata": {
    "ExecuteTime": {
     "end_time": "2022-08-16T18:58:10.590739Z",
     "start_time": "2022-08-16T18:58:10.496120Z"
    }
   },
   "outputs": [],
   "source": [
    "df['subjectivity'] = df['text_lem'].apply(lambda x: TextBlob(x).sentiment.subjectivity)"
   ]
  },
  {
   "cell_type": "code",
   "execution_count": 27,
   "id": "7672770d",
   "metadata": {
    "ExecuteTime": {
     "end_time": "2022-08-16T18:58:10.606369Z",
     "start_time": "2022-08-16T18:58:10.591609Z"
    }
   },
   "outputs": [
    {
     "data": {
      "text/html": [
       "<div>\n",
       "<style scoped>\n",
       "    .dataframe tbody tr th:only-of-type {\n",
       "        vertical-align: middle;\n",
       "    }\n",
       "\n",
       "    .dataframe tbody tr th {\n",
       "        vertical-align: top;\n",
       "    }\n",
       "\n",
       "    .dataframe thead th {\n",
       "        text-align: right;\n",
       "    }\n",
       "</style>\n",
       "<table border=\"1\" class=\"dataframe\">\n",
       "  <thead>\n",
       "    <tr style=\"text-align: right;\">\n",
       "      <th></th>\n",
       "      <th>date</th>\n",
       "      <th>content</th>\n",
       "      <th>user</th>\n",
       "      <th>text</th>\n",
       "      <th>text_lower</th>\n",
       "      <th>text_punc</th>\n",
       "      <th>text_punc_words</th>\n",
       "      <th>text_stem</th>\n",
       "      <th>text_lem</th>\n",
       "      <th>polarity</th>\n",
       "      <th>subjectivity</th>\n",
       "    </tr>\n",
       "  </thead>\n",
       "  <tbody>\n",
       "    <tr>\n",
       "      <th>0</th>\n",
       "      <td>2022-08-16 18:53:19+00:00</td>\n",
       "      <td>@Tesla @elonmusk WOOOW 🥳 I’m not gonna be anti...</td>\n",
       "      <td>{'username': 'ScarletKnight_x', 'id': 13913788...</td>\n",
       "      <td>WOOOW 🥳 I’m not gonna be anti social anymore</td>\n",
       "      <td>wooow 🥳 i’m not gonna be anti social anymore</td>\n",
       "      <td>wooow  im not gonna be anti social anymore</td>\n",
       "      <td>wooow im gonna anti social anymore</td>\n",
       "      <td>wooow im gonna anti social anymor</td>\n",
       "      <td>wooow im gonna anti social anymor</td>\n",
       "      <td>0.033333</td>\n",
       "      <td>0.066667</td>\n",
       "    </tr>\n",
       "    <tr>\n",
       "      <th>1</th>\n",
       "      <td>2022-08-16 18:52:14+00:00</td>\n",
       "      <td>@Harsh_Rojivadia @Tesla @elonmusk Tell that to...</td>\n",
       "      <td>{'username': 'Allin_on_Tesla', 'id': 146603932...</td>\n",
       "      <td>_Rojivadia   Tell that to Modi.</td>\n",
       "      <td>_rojivadia tell that to modi.</td>\n",
       "      <td>_rojivadia tell that to modi</td>\n",
       "      <td>_rojivadia tell modi</td>\n",
       "      <td>_rojivadia tell modi</td>\n",
       "      <td>_rojivadia tell modi</td>\n",
       "      <td>0.000000</td>\n",
       "      <td>0.000000</td>\n",
       "    </tr>\n",
       "    <tr>\n",
       "      <th>2</th>\n",
       "      <td>2022-08-16 18:47:19+00:00</td>\n",
       "      <td>@Tesla @elonmusk I often write Tesla poetry. I...</td>\n",
       "      <td>{'username': 'CatherinScience', 'id': 14495121...</td>\n",
       "      <td>I often write Tesla poetry. It not only help...</td>\n",
       "      <td>i often write tesla poetry. it not only helps ...</td>\n",
       "      <td>i often write tesla poetry it not only helps e...</td>\n",
       "      <td>often write tesla poetry helps earth amazing p...</td>\n",
       "      <td>often write tesla poetri help earth amaz piec ...</td>\n",
       "      <td>often write tesla poetri help earth amaz piec ...</td>\n",
       "      <td>0.000000</td>\n",
       "      <td>0.000000</td>\n",
       "    </tr>\n",
       "    <tr>\n",
       "      <th>3</th>\n",
       "      <td>2022-08-16 18:45:18+00:00</td>\n",
       "      <td>@Tesla @elonmusk Please can you hurry up with ...</td>\n",
       "      <td>{'username': 'StratusVerse', 'id': 12592412497...</td>\n",
       "      <td>Please can you hurry up with mine I’m curren...</td>\n",
       "      <td>please can you hurry up with mine i’m currentl...</td>\n",
       "      <td>please can you hurry up with mine im currently...</td>\n",
       "      <td>please hurry mine im currently bus wanker uk c...</td>\n",
       "      <td>pleas hurri mine im current bu wanker uk curre...</td>\n",
       "      <td>plea hurri mine im current bu wanker uk curren...</td>\n",
       "      <td>0.000000</td>\n",
       "      <td>0.400000</td>\n",
       "    </tr>\n",
       "    <tr>\n",
       "      <th>4</th>\n",
       "      <td>2022-08-16 18:37:34+00:00</td>\n",
       "      <td>@WholeMarsBlog @RealDanODowd @elonmusk It does...</td>\n",
       "      <td>{'username': 'James_Hunt_1976', 'id': 10712622...</td>\n",
       "      <td>It doesn't look like that car was self-driv...</td>\n",
       "      <td>it doesn't look like that car was self-driving:</td>\n",
       "      <td>it doesnt look like that car was selfdriving</td>\n",
       "      <td>doesnt look like car selfdriving</td>\n",
       "      <td>doesnt look like car selfdriv</td>\n",
       "      <td>doesnt look like car selfdriv</td>\n",
       "      <td>0.000000</td>\n",
       "      <td>0.000000</td>\n",
       "    </tr>\n",
       "  </tbody>\n",
       "</table>\n",
       "</div>"
      ],
      "text/plain": [
       "                       date  \\\n",
       "0 2022-08-16 18:53:19+00:00   \n",
       "1 2022-08-16 18:52:14+00:00   \n",
       "2 2022-08-16 18:47:19+00:00   \n",
       "3 2022-08-16 18:45:18+00:00   \n",
       "4 2022-08-16 18:37:34+00:00   \n",
       "\n",
       "                                             content  \\\n",
       "0  @Tesla @elonmusk WOOOW 🥳 I’m not gonna be anti...   \n",
       "1  @Harsh_Rojivadia @Tesla @elonmusk Tell that to...   \n",
       "2  @Tesla @elonmusk I often write Tesla poetry. I...   \n",
       "3  @Tesla @elonmusk Please can you hurry up with ...   \n",
       "4  @WholeMarsBlog @RealDanODowd @elonmusk It does...   \n",
       "\n",
       "                                                user  \\\n",
       "0  {'username': 'ScarletKnight_x', 'id': 13913788...   \n",
       "1  {'username': 'Allin_on_Tesla', 'id': 146603932...   \n",
       "2  {'username': 'CatherinScience', 'id': 14495121...   \n",
       "3  {'username': 'StratusVerse', 'id': 12592412497...   \n",
       "4  {'username': 'James_Hunt_1976', 'id': 10712622...   \n",
       "\n",
       "                                                text  \\\n",
       "0       WOOOW 🥳 I’m not gonna be anti social anymore   \n",
       "1                    _Rojivadia   Tell that to Modi.   \n",
       "2    I often write Tesla poetry. It not only help...   \n",
       "3    Please can you hurry up with mine I’m curren...   \n",
       "4     It doesn't look like that car was self-driv...   \n",
       "\n",
       "                                          text_lower  \\\n",
       "0       wooow 🥳 i’m not gonna be anti social anymore   \n",
       "1                      _rojivadia tell that to modi.   \n",
       "2  i often write tesla poetry. it not only helps ...   \n",
       "3  please can you hurry up with mine i’m currentl...   \n",
       "4    it doesn't look like that car was self-driving:   \n",
       "\n",
       "                                           text_punc  \\\n",
       "0         wooow  im not gonna be anti social anymore   \n",
       "1                       _rojivadia tell that to modi   \n",
       "2  i often write tesla poetry it not only helps e...   \n",
       "3  please can you hurry up with mine im currently...   \n",
       "4       it doesnt look like that car was selfdriving   \n",
       "\n",
       "                                     text_punc_words  \\\n",
       "0                 wooow im gonna anti social anymore   \n",
       "1                               _rojivadia tell modi   \n",
       "2  often write tesla poetry helps earth amazing p...   \n",
       "3  please hurry mine im currently bus wanker uk c...   \n",
       "4                   doesnt look like car selfdriving   \n",
       "\n",
       "                                           text_stem  \\\n",
       "0                  wooow im gonna anti social anymor   \n",
       "1                               _rojivadia tell modi   \n",
       "2  often write tesla poetri help earth amaz piec ...   \n",
       "3  pleas hurri mine im current bu wanker uk curre...   \n",
       "4                      doesnt look like car selfdriv   \n",
       "\n",
       "                                            text_lem  polarity  subjectivity  \n",
       "0                  wooow im gonna anti social anymor  0.033333      0.066667  \n",
       "1                               _rojivadia tell modi  0.000000      0.000000  \n",
       "2  often write tesla poetri help earth amaz piec ...  0.000000      0.000000  \n",
       "3  plea hurri mine im current bu wanker uk curren...  0.000000      0.400000  \n",
       "4                      doesnt look like car selfdriv  0.000000      0.000000  "
      ]
     },
     "execution_count": 27,
     "metadata": {},
     "output_type": "execute_result"
    }
   ],
   "source": [
    "df.head()"
   ]
  },
  {
   "cell_type": "code",
   "execution_count": 28,
   "id": "8b0733e1",
   "metadata": {
    "ExecuteTime": {
     "end_time": "2022-08-16T18:58:10.622399Z",
     "start_time": "2022-08-16T18:58:10.611375Z"
    }
   },
   "outputs": [],
   "source": [
    "dfpol=df[['date','content','text_lem','polarity']]"
   ]
  },
  {
   "cell_type": "code",
   "execution_count": 29,
   "id": "5e4363a9",
   "metadata": {
    "ExecuteTime": {
     "end_time": "2022-08-16T18:58:10.638083Z",
     "start_time": "2022-08-16T18:58:10.623377Z"
    }
   },
   "outputs": [
    {
     "data": {
      "text/html": [
       "<div>\n",
       "<style scoped>\n",
       "    .dataframe tbody tr th:only-of-type {\n",
       "        vertical-align: middle;\n",
       "    }\n",
       "\n",
       "    .dataframe tbody tr th {\n",
       "        vertical-align: top;\n",
       "    }\n",
       "\n",
       "    .dataframe thead th {\n",
       "        text-align: right;\n",
       "    }\n",
       "</style>\n",
       "<table border=\"1\" class=\"dataframe\">\n",
       "  <thead>\n",
       "    <tr style=\"text-align: right;\">\n",
       "      <th></th>\n",
       "      <th>date</th>\n",
       "      <th>content</th>\n",
       "      <th>text_lem</th>\n",
       "      <th>polarity</th>\n",
       "    </tr>\n",
       "  </thead>\n",
       "  <tbody>\n",
       "    <tr>\n",
       "      <th>0</th>\n",
       "      <td>2022-08-16 18:53:19+00:00</td>\n",
       "      <td>@Tesla @elonmusk WOOOW 🥳 I’m not gonna be anti...</td>\n",
       "      <td>wooow im gonna anti social anymor</td>\n",
       "      <td>0.033333</td>\n",
       "    </tr>\n",
       "    <tr>\n",
       "      <th>1</th>\n",
       "      <td>2022-08-16 18:52:14+00:00</td>\n",
       "      <td>@Harsh_Rojivadia @Tesla @elonmusk Tell that to...</td>\n",
       "      <td>_rojivadia tell modi</td>\n",
       "      <td>0.000000</td>\n",
       "    </tr>\n",
       "    <tr>\n",
       "      <th>2</th>\n",
       "      <td>2022-08-16 18:47:19+00:00</td>\n",
       "      <td>@Tesla @elonmusk I often write Tesla poetry. I...</td>\n",
       "      <td>often write tesla poetri help earth amaz piec ...</td>\n",
       "      <td>0.000000</td>\n",
       "    </tr>\n",
       "    <tr>\n",
       "      <th>3</th>\n",
       "      <td>2022-08-16 18:45:18+00:00</td>\n",
       "      <td>@Tesla @elonmusk Please can you hurry up with ...</td>\n",
       "      <td>plea hurri mine im current bu wanker uk curren...</td>\n",
       "      <td>0.000000</td>\n",
       "    </tr>\n",
       "    <tr>\n",
       "      <th>4</th>\n",
       "      <td>2022-08-16 18:37:34+00:00</td>\n",
       "      <td>@WholeMarsBlog @RealDanODowd @elonmusk It does...</td>\n",
       "      <td>doesnt look like car selfdriv</td>\n",
       "      <td>0.000000</td>\n",
       "    </tr>\n",
       "  </tbody>\n",
       "</table>\n",
       "</div>"
      ],
      "text/plain": [
       "                       date  \\\n",
       "0 2022-08-16 18:53:19+00:00   \n",
       "1 2022-08-16 18:52:14+00:00   \n",
       "2 2022-08-16 18:47:19+00:00   \n",
       "3 2022-08-16 18:45:18+00:00   \n",
       "4 2022-08-16 18:37:34+00:00   \n",
       "\n",
       "                                             content  \\\n",
       "0  @Tesla @elonmusk WOOOW 🥳 I’m not gonna be anti...   \n",
       "1  @Harsh_Rojivadia @Tesla @elonmusk Tell that to...   \n",
       "2  @Tesla @elonmusk I often write Tesla poetry. I...   \n",
       "3  @Tesla @elonmusk Please can you hurry up with ...   \n",
       "4  @WholeMarsBlog @RealDanODowd @elonmusk It does...   \n",
       "\n",
       "                                            text_lem  polarity  \n",
       "0                  wooow im gonna anti social anymor  0.033333  \n",
       "1                               _rojivadia tell modi  0.000000  \n",
       "2  often write tesla poetri help earth amaz piec ...  0.000000  \n",
       "3  plea hurri mine im current bu wanker uk curren...  0.000000  \n",
       "4                      doesnt look like car selfdriv  0.000000  "
      ]
     },
     "execution_count": 29,
     "metadata": {},
     "output_type": "execute_result"
    }
   ],
   "source": [
    "dfpol.head()"
   ]
  },
  {
   "cell_type": "code",
   "execution_count": 30,
   "id": "af11ada7",
   "metadata": {
    "ExecuteTime": {
     "end_time": "2022-08-16T18:58:10.748404Z",
     "start_time": "2022-08-16T18:58:10.639315Z"
    }
   },
   "outputs": [],
   "source": [
    "def polarity_to_label(x):\n",
    "    if(x >= -1 and x < 0):\n",
    "        return 'neg'\n",
    "    if(x == 0):\n",
    "        return 'neutral'\n",
    "    if(x > 0 and x <= 1):\n",
    "        return 'pos'\n",
    "dfpol['class']= dfpol.polarity.apply(polarity_to_label)"
   ]
  },
  {
   "cell_type": "code",
   "execution_count": 31,
   "id": "4a6a29fd",
   "metadata": {
    "ExecuteTime": {
     "end_time": "2022-08-16T18:58:10.764008Z",
     "start_time": "2022-08-16T18:58:10.750277Z"
    }
   },
   "outputs": [
    {
     "data": {
      "text/html": [
       "<div>\n",
       "<style scoped>\n",
       "    .dataframe tbody tr th:only-of-type {\n",
       "        vertical-align: middle;\n",
       "    }\n",
       "\n",
       "    .dataframe tbody tr th {\n",
       "        vertical-align: top;\n",
       "    }\n",
       "\n",
       "    .dataframe thead th {\n",
       "        text-align: right;\n",
       "    }\n",
       "</style>\n",
       "<table border=\"1\" class=\"dataframe\">\n",
       "  <thead>\n",
       "    <tr style=\"text-align: right;\">\n",
       "      <th></th>\n",
       "      <th>date</th>\n",
       "      <th>content</th>\n",
       "      <th>text_lem</th>\n",
       "      <th>polarity</th>\n",
       "      <th>class</th>\n",
       "    </tr>\n",
       "  </thead>\n",
       "  <tbody>\n",
       "    <tr>\n",
       "      <th>0</th>\n",
       "      <td>2022-08-16 18:53:19+00:00</td>\n",
       "      <td>@Tesla @elonmusk WOOOW 🥳 I’m not gonna be anti...</td>\n",
       "      <td>wooow im gonna anti social anymor</td>\n",
       "      <td>0.033333</td>\n",
       "      <td>pos</td>\n",
       "    </tr>\n",
       "    <tr>\n",
       "      <th>1</th>\n",
       "      <td>2022-08-16 18:52:14+00:00</td>\n",
       "      <td>@Harsh_Rojivadia @Tesla @elonmusk Tell that to...</td>\n",
       "      <td>_rojivadia tell modi</td>\n",
       "      <td>0.000000</td>\n",
       "      <td>neutral</td>\n",
       "    </tr>\n",
       "    <tr>\n",
       "      <th>2</th>\n",
       "      <td>2022-08-16 18:47:19+00:00</td>\n",
       "      <td>@Tesla @elonmusk I often write Tesla poetry. I...</td>\n",
       "      <td>often write tesla poetri help earth amaz piec ...</td>\n",
       "      <td>0.000000</td>\n",
       "      <td>neutral</td>\n",
       "    </tr>\n",
       "    <tr>\n",
       "      <th>3</th>\n",
       "      <td>2022-08-16 18:45:18+00:00</td>\n",
       "      <td>@Tesla @elonmusk Please can you hurry up with ...</td>\n",
       "      <td>plea hurri mine im current bu wanker uk curren...</td>\n",
       "      <td>0.000000</td>\n",
       "      <td>neutral</td>\n",
       "    </tr>\n",
       "    <tr>\n",
       "      <th>4</th>\n",
       "      <td>2022-08-16 18:37:34+00:00</td>\n",
       "      <td>@WholeMarsBlog @RealDanODowd @elonmusk It does...</td>\n",
       "      <td>doesnt look like car selfdriv</td>\n",
       "      <td>0.000000</td>\n",
       "      <td>neutral</td>\n",
       "    </tr>\n",
       "  </tbody>\n",
       "</table>\n",
       "</div>"
      ],
      "text/plain": [
       "                       date  \\\n",
       "0 2022-08-16 18:53:19+00:00   \n",
       "1 2022-08-16 18:52:14+00:00   \n",
       "2 2022-08-16 18:47:19+00:00   \n",
       "3 2022-08-16 18:45:18+00:00   \n",
       "4 2022-08-16 18:37:34+00:00   \n",
       "\n",
       "                                             content  \\\n",
       "0  @Tesla @elonmusk WOOOW 🥳 I’m not gonna be anti...   \n",
       "1  @Harsh_Rojivadia @Tesla @elonmusk Tell that to...   \n",
       "2  @Tesla @elonmusk I often write Tesla poetry. I...   \n",
       "3  @Tesla @elonmusk Please can you hurry up with ...   \n",
       "4  @WholeMarsBlog @RealDanODowd @elonmusk It does...   \n",
       "\n",
       "                                            text_lem  polarity    class  \n",
       "0                  wooow im gonna anti social anymor  0.033333      pos  \n",
       "1                               _rojivadia tell modi  0.000000  neutral  \n",
       "2  often write tesla poetri help earth amaz piec ...  0.000000  neutral  \n",
       "3  plea hurri mine im current bu wanker uk curren...  0.000000  neutral  \n",
       "4                      doesnt look like car selfdriv  0.000000  neutral  "
      ]
     },
     "execution_count": 31,
     "metadata": {},
     "output_type": "execute_result"
    }
   ],
   "source": [
    "dfpol.head()"
   ]
  },
  {
   "cell_type": "code",
   "execution_count": 32,
   "id": "5907a6a9",
   "metadata": {
    "ExecuteTime": {
     "end_time": "2022-08-16T18:58:10.779253Z",
     "start_time": "2022-08-16T18:58:10.765922Z"
    }
   },
   "outputs": [],
   "source": [
    "import datetime as dt"
   ]
  },
  {
   "cell_type": "code",
   "execution_count": 33,
   "id": "f3f5c64a",
   "metadata": {
    "ExecuteTime": {
     "end_time": "2022-08-16T18:58:10.810446Z",
     "start_time": "2022-08-16T18:58:10.780971Z"
    }
   },
   "outputs": [],
   "source": [
    "from datetime import date\n",
    "\n",
    "dfpol['date'] = pd.to_datetime(dfpol['date']) #convert to the standard date formast\n",
    "dfpol['new_date_column'] = dfpol['date'].dt.date"
   ]
  },
  {
   "cell_type": "code",
   "execution_count": 34,
   "id": "aa099fca",
   "metadata": {
    "ExecuteTime": {
     "end_time": "2022-08-16T18:58:10.825334Z",
     "start_time": "2022-08-16T18:58:10.812273Z"
    }
   },
   "outputs": [
    {
     "data": {
      "text/html": [
       "<div>\n",
       "<style scoped>\n",
       "    .dataframe tbody tr th:only-of-type {\n",
       "        vertical-align: middle;\n",
       "    }\n",
       "\n",
       "    .dataframe tbody tr th {\n",
       "        vertical-align: top;\n",
       "    }\n",
       "\n",
       "    .dataframe thead th {\n",
       "        text-align: right;\n",
       "    }\n",
       "</style>\n",
       "<table border=\"1\" class=\"dataframe\">\n",
       "  <thead>\n",
       "    <tr style=\"text-align: right;\">\n",
       "      <th></th>\n",
       "      <th>date</th>\n",
       "      <th>content</th>\n",
       "      <th>text_lem</th>\n",
       "      <th>polarity</th>\n",
       "      <th>class</th>\n",
       "      <th>new_date_column</th>\n",
       "    </tr>\n",
       "  </thead>\n",
       "  <tbody>\n",
       "    <tr>\n",
       "      <th>0</th>\n",
       "      <td>2022-08-16 18:53:19+00:00</td>\n",
       "      <td>@Tesla @elonmusk WOOOW 🥳 I’m not gonna be anti...</td>\n",
       "      <td>wooow im gonna anti social anymor</td>\n",
       "      <td>0.033333</td>\n",
       "      <td>pos</td>\n",
       "      <td>2022-08-16</td>\n",
       "    </tr>\n",
       "    <tr>\n",
       "      <th>1</th>\n",
       "      <td>2022-08-16 18:52:14+00:00</td>\n",
       "      <td>@Harsh_Rojivadia @Tesla @elonmusk Tell that to...</td>\n",
       "      <td>_rojivadia tell modi</td>\n",
       "      <td>0.000000</td>\n",
       "      <td>neutral</td>\n",
       "      <td>2022-08-16</td>\n",
       "    </tr>\n",
       "    <tr>\n",
       "      <th>2</th>\n",
       "      <td>2022-08-16 18:47:19+00:00</td>\n",
       "      <td>@Tesla @elonmusk I often write Tesla poetry. I...</td>\n",
       "      <td>often write tesla poetri help earth amaz piec ...</td>\n",
       "      <td>0.000000</td>\n",
       "      <td>neutral</td>\n",
       "      <td>2022-08-16</td>\n",
       "    </tr>\n",
       "    <tr>\n",
       "      <th>3</th>\n",
       "      <td>2022-08-16 18:45:18+00:00</td>\n",
       "      <td>@Tesla @elonmusk Please can you hurry up with ...</td>\n",
       "      <td>plea hurri mine im current bu wanker uk curren...</td>\n",
       "      <td>0.000000</td>\n",
       "      <td>neutral</td>\n",
       "      <td>2022-08-16</td>\n",
       "    </tr>\n",
       "    <tr>\n",
       "      <th>4</th>\n",
       "      <td>2022-08-16 18:37:34+00:00</td>\n",
       "      <td>@WholeMarsBlog @RealDanODowd @elonmusk It does...</td>\n",
       "      <td>doesnt look like car selfdriv</td>\n",
       "      <td>0.000000</td>\n",
       "      <td>neutral</td>\n",
       "      <td>2022-08-16</td>\n",
       "    </tr>\n",
       "  </tbody>\n",
       "</table>\n",
       "</div>"
      ],
      "text/plain": [
       "                       date  \\\n",
       "0 2022-08-16 18:53:19+00:00   \n",
       "1 2022-08-16 18:52:14+00:00   \n",
       "2 2022-08-16 18:47:19+00:00   \n",
       "3 2022-08-16 18:45:18+00:00   \n",
       "4 2022-08-16 18:37:34+00:00   \n",
       "\n",
       "                                             content  \\\n",
       "0  @Tesla @elonmusk WOOOW 🥳 I’m not gonna be anti...   \n",
       "1  @Harsh_Rojivadia @Tesla @elonmusk Tell that to...   \n",
       "2  @Tesla @elonmusk I often write Tesla poetry. I...   \n",
       "3  @Tesla @elonmusk Please can you hurry up with ...   \n",
       "4  @WholeMarsBlog @RealDanODowd @elonmusk It does...   \n",
       "\n",
       "                                            text_lem  polarity    class  \\\n",
       "0                  wooow im gonna anti social anymor  0.033333      pos   \n",
       "1                               _rojivadia tell modi  0.000000  neutral   \n",
       "2  often write tesla poetri help earth amaz piec ...  0.000000  neutral   \n",
       "3  plea hurri mine im current bu wanker uk curren...  0.000000  neutral   \n",
       "4                      doesnt look like car selfdriv  0.000000  neutral   \n",
       "\n",
       "  new_date_column  \n",
       "0      2022-08-16  \n",
       "1      2022-08-16  \n",
       "2      2022-08-16  \n",
       "3      2022-08-16  \n",
       "4      2022-08-16  "
      ]
     },
     "execution_count": 34,
     "metadata": {},
     "output_type": "execute_result"
    }
   ],
   "source": [
    "dfpol.head()"
   ]
  },
  {
   "cell_type": "markdown",
   "id": "58edd2ac",
   "metadata": {},
   "source": [
    "### Daily Polarity"
   ]
  },
  {
   "cell_type": "code",
   "execution_count": 35,
   "id": "1c0d1a4d",
   "metadata": {
    "ExecuteTime": {
     "end_time": "2022-08-16T18:58:10.840945Z",
     "start_time": "2022-08-16T18:58:10.827408Z"
    }
   },
   "outputs": [],
   "source": [
    "dpol=dfpol.groupby(['new_date_column'],as_index=False)['polarity'].mean()"
   ]
  },
  {
   "cell_type": "code",
   "execution_count": 36,
   "id": "6fc68ecd",
   "metadata": {
    "ExecuteTime": {
     "end_time": "2022-08-16T18:58:10.856388Z",
     "start_time": "2022-08-16T18:58:10.842945Z"
    }
   },
   "outputs": [
    {
     "data": {
      "text/html": [
       "<div>\n",
       "<style scoped>\n",
       "    .dataframe tbody tr th:only-of-type {\n",
       "        vertical-align: middle;\n",
       "    }\n",
       "\n",
       "    .dataframe tbody tr th {\n",
       "        vertical-align: top;\n",
       "    }\n",
       "\n",
       "    .dataframe thead th {\n",
       "        text-align: right;\n",
       "    }\n",
       "</style>\n",
       "<table border=\"1\" class=\"dataframe\">\n",
       "  <thead>\n",
       "    <tr style=\"text-align: right;\">\n",
       "      <th></th>\n",
       "      <th>new_date_column</th>\n",
       "      <th>polarity</th>\n",
       "    </tr>\n",
       "  </thead>\n",
       "  <tbody>\n",
       "    <tr>\n",
       "      <th>0</th>\n",
       "      <td>2022-08-12</td>\n",
       "      <td>0.061799</td>\n",
       "    </tr>\n",
       "    <tr>\n",
       "      <th>1</th>\n",
       "      <td>2022-08-13</td>\n",
       "      <td>0.027740</td>\n",
       "    </tr>\n",
       "    <tr>\n",
       "      <th>2</th>\n",
       "      <td>2022-08-14</td>\n",
       "      <td>0.048908</td>\n",
       "    </tr>\n",
       "    <tr>\n",
       "      <th>3</th>\n",
       "      <td>2022-08-15</td>\n",
       "      <td>0.041177</td>\n",
       "    </tr>\n",
       "    <tr>\n",
       "      <th>4</th>\n",
       "      <td>2022-08-16</td>\n",
       "      <td>0.062316</td>\n",
       "    </tr>\n",
       "  </tbody>\n",
       "</table>\n",
       "</div>"
      ],
      "text/plain": [
       "  new_date_column  polarity\n",
       "0      2022-08-12  0.061799\n",
       "1      2022-08-13  0.027740\n",
       "2      2022-08-14  0.048908\n",
       "3      2022-08-15  0.041177\n",
       "4      2022-08-16  0.062316"
      ]
     },
     "execution_count": 36,
     "metadata": {},
     "output_type": "execute_result"
    }
   ],
   "source": [
    "dpol.head()"
   ]
  },
  {
   "cell_type": "code",
   "execution_count": 37,
   "id": "b51ed8a6",
   "metadata": {
    "ExecuteTime": {
     "end_time": "2022-08-16T18:58:10.950082Z",
     "start_time": "2022-08-16T18:58:10.857654Z"
    }
   },
   "outputs": [],
   "source": [
    "import numpy as np \n",
    "import pandas as pd \n",
    "pd.set_option('display.max_colwidth', -1)\n",
    "from time import time\n",
    "import re\n",
    "import string\n",
    "import os\n",
    "\n",
    "from pprint import pprint\n",
    "import collections\n",
    "import matplotlib.pyplot as plt\n",
    "import seaborn as sns\n",
    "sns.set(style=\"darkgrid\")\n",
    "sns.set(font_scale=1.3)"
   ]
  },
  {
   "cell_type": "code",
   "execution_count": 38,
   "id": "84f10bef",
   "metadata": {
    "ExecuteTime": {
     "end_time": "2022-08-16T18:58:11.107893Z",
     "start_time": "2022-08-16T18:58:10.952307Z"
    }
   },
   "outputs": [
    {
     "data": {
      "image/png": "[encoded data removed]",
      "text/plain": [
       "<Figure size 648x432 with 1 Axes>"
      ]
     },
     "metadata": {},
     "output_type": "display_data"
    }
   ],
   "source": [
    "sns.factorplot(x=\"class\", data=dfpol, kind=\"count\", size=6, aspect=1.5, palette=\"PuBuGn_d\")\n",
    "plt.show();"
   ]
  },
  {
   "cell_type": "code",
   "execution_count": 41,
   "id": "2a37e744",
   "metadata": {
    "ExecuteTime": {
     "end_time": "2022-08-16T19:00:34.154453Z",
     "start_time": "2022-08-16T19:00:33.972804Z"
    }
   },
   "outputs": [
    {
     "data": {
      "image/png": "[encoded data removed]",
      "text/plain": [
       "<Figure size 432x288 with 1 Axes>"
      ]
     },
     "metadata": {},
     "output_type": "display_data"
    }
   ],
   "source": [
    "ax = sns.lineplot(data=dfpol, x=\"date\", y=\"polarity\")\n",
    "ax.tick_params(axis='x', labelrotation=45)"
   ]
  },
  {
   "cell_type": "code",
   "execution_count": null,
   "id": "02355cf3",
   "metadata": {},
   "outputs": [],
   "source": []
  },
  {
   "cell_type": "code",
   "execution_count": null,
   "id": "644d4d08",
   "metadata": {},
   "outputs": [],
   "source": []
  },
  {
   "cell_type": "code",
   "execution_count": null,
   "id": "6a69de64",
   "metadata": {},
   "outputs": [],
   "source": []
  }
 ],
 "metadata": {
  "hide_input": false,
  "kernelspec": {
   "display_name": "Python 3 (ipykernel)",
   "language": "python",
   "name": "python3"
  },
  "language_info": {
   "codemirror_mode": {
    "name": "ipython",
    "version": 3
   },
   "file_extension": ".py",
   "mimetype": "text/x-python",
   "name": "python",
   "nbconvert_exporter": "python",
   "pygments_lexer": "ipython3",
   "version": "3.9.12"
  },
  "toc": {
   "base_numbering": 1,
   "nav_menu": {},
   "number_sections": false,
   "sideBar": true,
   "skip_h1_title": false,
   "title_cell": "Table of Contents",
   "title_sidebar": "Contents",
   "toc_cell": false,
   "toc_position": {
    "height": "calc(100% - 180px)",
    "left": "10px",
    "top": "150px",
    "width": "295.056px"
   },
   "toc_section_display": true,
   "toc_window_display": true
  },
  "varInspector": {
   "cols": {
    "lenName": 16,
    "lenType": 16,
    "lenVar": 40
   },
   "kernels_config": {
    "python": {
     "delete_cmd_postfix": "",
     "delete_cmd_prefix": "del ",
     "library": "var_list.py",
     "varRefreshCmd": "print(var_dic_list())"
    },
    "r": {
     "delete_cmd_postfix": ") ",
     "delete_cmd_prefix": "rm(",
     "library": "var_list.r",
     "varRefreshCmd": "cat(var_dic_list()) "
    }
   },
   "types_to_exclude": [
    "module",
    "function",
    "builtin_function_or_method",
    "instance",
    "_Feature"
   ],
   "window_display": false
  }
 },
 "nbformat": 4,
 "nbformat_minor": 5
}
